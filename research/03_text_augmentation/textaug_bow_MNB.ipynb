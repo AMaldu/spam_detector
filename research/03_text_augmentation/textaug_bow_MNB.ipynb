{
 "cells": [
  {
   "cell_type": "markdown",
   "metadata": {},
   "source": [
    "The objective of this notebook is to perform oversampling using different techniques to balance our dataset"
   ]
  },
  {
   "cell_type": "code",
   "execution_count": 1,
   "metadata": {},
   "outputs": [],
   "source": [
    "import pandas as pd \n",
    "import warnings\n",
    "warnings.filterwarnings('ignore')\n"
   ]
  },
  {
   "cell_type": "code",
   "execution_count": 2,
   "metadata": {},
   "outputs": [
    {
     "data": {
      "text/html": [
       "<div>\n",
       "<style scoped>\n",
       "    .dataframe tbody tr th:only-of-type {\n",
       "        vertical-align: middle;\n",
       "    }\n",
       "\n",
       "    .dataframe tbody tr th {\n",
       "        vertical-align: top;\n",
       "    }\n",
       "\n",
       "    .dataframe thead th {\n",
       "        text-align: right;\n",
       "    }\n",
       "</style>\n",
       "<table border=\"1\" class=\"dataframe\">\n",
       "  <thead>\n",
       "    <tr style=\"text-align: right;\">\n",
       "      <th></th>\n",
       "      <th>Category</th>\n",
       "      <th>Message</th>\n",
       "    </tr>\n",
       "  </thead>\n",
       "  <tbody>\n",
       "    <tr>\n",
       "      <th>0</th>\n",
       "      <td>0</td>\n",
       "      <td>go until jurong point crazy available only in ...</td>\n",
       "    </tr>\n",
       "    <tr>\n",
       "      <th>1</th>\n",
       "      <td>0</td>\n",
       "      <td>ok lar joking wif u oni</td>\n",
       "    </tr>\n",
       "    <tr>\n",
       "      <th>2</th>\n",
       "      <td>1</td>\n",
       "      <td>free entry in number a wkly comp to win fa cup...</td>\n",
       "    </tr>\n",
       "    <tr>\n",
       "      <th>3</th>\n",
       "      <td>0</td>\n",
       "      <td>u dun say so early hor u c already then say</td>\n",
       "    </tr>\n",
       "    <tr>\n",
       "      <th>4</th>\n",
       "      <td>0</td>\n",
       "      <td>nah i dont think he goes to usf he lives aroun...</td>\n",
       "    </tr>\n",
       "    <tr>\n",
       "      <th>...</th>\n",
       "      <td>...</td>\n",
       "      <td>...</td>\n",
       "    </tr>\n",
       "    <tr>\n",
       "      <th>5152</th>\n",
       "      <td>1</td>\n",
       "      <td>this is the numbernd time we have tried number...</td>\n",
       "    </tr>\n",
       "    <tr>\n",
       "      <th>5153</th>\n",
       "      <td>0</td>\n",
       "      <td>will you b going to esplanade fr home</td>\n",
       "    </tr>\n",
       "    <tr>\n",
       "      <th>5154</th>\n",
       "      <td>0</td>\n",
       "      <td>pity was in mood for that soany other suggestions</td>\n",
       "    </tr>\n",
       "    <tr>\n",
       "      <th>5155</th>\n",
       "      <td>0</td>\n",
       "      <td>the guy did some bitching but i acted like id ...</td>\n",
       "    </tr>\n",
       "    <tr>\n",
       "      <th>5156</th>\n",
       "      <td>0</td>\n",
       "      <td>rofl its true to its name</td>\n",
       "    </tr>\n",
       "  </tbody>\n",
       "</table>\n",
       "<p>5157 rows × 2 columns</p>\n",
       "</div>"
      ],
      "text/plain": [
       "      Category                                            Message\n",
       "0            0  go until jurong point crazy available only in ...\n",
       "1            0                            ok lar joking wif u oni\n",
       "2            1  free entry in number a wkly comp to win fa cup...\n",
       "3            0        u dun say so early hor u c already then say\n",
       "4            0  nah i dont think he goes to usf he lives aroun...\n",
       "...        ...                                                ...\n",
       "5152         1  this is the numbernd time we have tried number...\n",
       "5153         0              will you b going to esplanade fr home\n",
       "5154         0  pity was in mood for that soany other suggestions\n",
       "5155         0  the guy did some bitching but i acted like id ...\n",
       "5156         0                          rofl its true to its name\n",
       "\n",
       "[5157 rows x 2 columns]"
      ]
     },
     "execution_count": 2,
     "metadata": {},
     "output_type": "execute_result"
    }
   ],
   "source": [
    "df = pd.read_csv(\"../data/silver/df_cleantext_v0.csv\")\n",
    "df"
   ]
  },
  {
   "cell_type": "code",
   "execution_count": 3,
   "metadata": {},
   "outputs": [
    {
     "data": {
      "text/plain": [
       "0       go until jurong point crazy available only in ...\n",
       "1                                 ok lar joking wif u oni\n",
       "2       free entry in number a wkly comp to win fa cup...\n",
       "3             u dun say so early hor u c already then say\n",
       "4       nah i dont think he goes to usf he lives aroun...\n",
       "                              ...                        \n",
       "5152    this is the numbernd time we have tried number...\n",
       "5153                will you b going to esplanade fr home\n",
       "5154    pity was in mood for that soany other suggestions\n",
       "5155    the guy did some bitching but i acted like id ...\n",
       "5156                            rofl its true to its name\n",
       "Name: Message, Length: 5157, dtype: object"
      ]
     },
     "execution_count": 3,
     "metadata": {},
     "output_type": "execute_result"
    }
   ],
   "source": [
    "from sklearn.model_selection import train_test_split\n",
    "\n",
    "X = df['Message']\n",
    "y = df['Category']  \n",
    "\n",
    "X_train, X_temp, y_train, y_temp = train_test_split(X, y, test_size=0.2, random_state=42)\n",
    "X_val, X_test, y_val, y_test = train_test_split(X_temp, y_temp, test_size=0.5, random_state=42)\n",
    "\n",
    "X"
   ]
  },
  {
   "cell_type": "markdown",
   "metadata": {},
   "source": [
    "## Tokenization"
   ]
  },
  {
   "cell_type": "code",
   "execution_count": 4,
   "metadata": {},
   "outputs": [],
   "source": [
    "# from nltk.tokenize import word_tokenize\n",
    "\n",
    "# df_tokenized = df.copy()\n",
    "# df_tokenized['Message'] = df_tokenized['Message'].apply(word_tokenize)\n",
    "# df_tokenized['Message']"
   ]
  },
  {
   "cell_type": "markdown",
   "metadata": {},
   "source": [
    "## Oversampling "
   ]
  },
  {
   "cell_type": "code",
   "execution_count": 5,
   "metadata": {},
   "outputs": [
    {
     "data": {
      "text/plain": [
       "Category\n",
       "0    3620\n",
       "1     505\n",
       "Name: count, dtype: int64"
      ]
     },
     "execution_count": 5,
     "metadata": {},
     "output_type": "execute_result"
    }
   ],
   "source": [
    "rows_count = y_train.value_counts()\n",
    "rows_count"
   ]
  },
  {
   "cell_type": "code",
   "execution_count": 6,
   "metadata": {},
   "outputs": [
    {
     "name": "stdout",
     "output_type": "stream",
     "text": [
      "Size of oversampling with 1.25x: 631\n",
      "Size of oversampling with 1.5x: 757\n",
      "Size of oversampling with 2x: 1010\n"
     ]
    }
   ],
   "source": [
    "oversample_factors = [1.25, 1.5, 2]\n",
    "oversample_sizes = [int(rows_count[1] * factor) for factor in oversample_factors]\n",
    "\n",
    "for factor, size in zip(oversample_factors, oversample_sizes):\n",
    "    print(f\"Size of oversampling with {factor}x: {size}\")\n"
   ]
  },
  {
   "cell_type": "markdown",
   "metadata": {},
   "source": [
    "## nlpAug techniques"
   ]
  },
  {
   "cell_type": "code",
   "execution_count": 16,
   "metadata": {},
   "outputs": [],
   "source": [
    "import nlpaug.augmenter.char as nac\n",
    "from textaug_techniques import TextAugmenter\n"
   ]
  },
  {
   "cell_type": "code",
   "execution_count": 17,
   "metadata": {},
   "outputs": [
    {
     "name": "stderr",
     "output_type": "stream",
     "text": [
      "2024-12-13 16:20:40,201 - INFO - Dataset '1.5x' created with 4377 samples.\n",
      "2024-12-13 16:20:40,203 - INFO - Dataset '2.0x' created with 4630 samples.\n",
      "2024-12-13 16:20:40,205 - INFO - Dataset '3.0x' created with 5135 samples.\n"
     ]
    },
    {
     "name": "stdout",
     "output_type": "stream",
     "text": [
      "Dataset '1.5x' - X shape: (4377,), y shape: (4377,)\n",
      "Dataset '2.0x' - X shape: (4630,), y shape: (4630,)\n",
      "Dataset '3.0x' - X shape: (5135,), y shape: (5135,)\n"
     ]
    }
   ],
   "source": [
    "augmenter = TextAugmenter(qw=1, aa=1, cwea=1)\n",
    "datasets = augmenter.augment(X_train, y_train)\n",
    "\n",
    "for label, (X, y) in datasets.items():\n",
    "    print(f\"Dataset '{label}' - X shape: {X.shape}, y shape: {y.shape}\")\n",
    "\n"
   ]
  },
  {
   "cell_type": "markdown",
   "metadata": {},
   "source": [
    "## MLFlow config"
   ]
  },
  {
   "cell_type": "code",
   "execution_count": 18,
   "metadata": {},
   "outputs": [
    {
     "ename": "NameError",
     "evalue": "name 'y_train_aug' is not defined",
     "output_type": "error",
     "traceback": [
      "\u001b[0;31m---------------------------------------------------------------------------\u001b[0m",
      "\u001b[0;31mNameError\u001b[0m                                 Traceback (most recent call last)",
      "Cell \u001b[0;32mIn[18], line 1\u001b[0m\n\u001b[0;32m----> 1\u001b[0m \u001b[43my_train_aug\u001b[49m\n",
      "\u001b[0;31mNameError\u001b[0m: name 'y_train_aug' is not defined"
     ]
    }
   ],
   "source": [
    "# on the console\n",
    "# mlflow server --backend-store-uri sqlite:///backend.db --default-artifact-root ./artifacts\n",
    "# mlflow.search_experiments()\n",
    "\n",
    "# from mlflow.tracking import MlflowClient\n",
    "# client = MlflowClient()\n",
    "# client.delete_run(\"81b0d40ddc814076a95bc6fd9d4fff34\")"
   ]
  },
  {
   "cell_type": "markdown",
   "metadata": {},
   "source": [
    "## Pipeline"
   ]
  },
  {
   "cell_type": "code",
   "execution_count": null,
   "metadata": {},
   "outputs": [],
   "source": [
    "import matplotlib.pyplot as plt\n",
    "from sklearn.feature_extraction.text import CountVectorizer\n",
    "from sklearn.naive_bayes import MultinomialNB\n",
    "from sklearn.pipeline import Pipeline\n",
    "from sklearn.metrics import (\n",
    "    fbeta_score,\n",
    "    classification_report,\n",
    "    confusion_matrix,\n",
    "    ConfusionMatrixDisplay,\n",
    "    precision_recall_curve,\n",
    "    auc,\n",
    "    balanced_accuracy_score,\n",
    "    roc_curve\n",
    ")\n",
    "\n",
    "\n",
    "pipeline = Pipeline([\n",
    "        ('vectorizer', CountVectorizer(ngram_range=(1, 1), max_features=None)),\n",
    "        ('classifier', MultinomialNB())\n",
    "    ])\n",
    "    \n",
    "pipeline.fit(X_train, y_train)\n",
    "y_train_pred = pipeline.predict(X_train)\n",
    "y_test_pred = pipeline.predict(X_test)\n",
    "\n",
    "\n"
   ]
  },
  {
   "cell_type": "markdown",
   "metadata": {},
   "source": [
    "## Metrics"
   ]
  },
  {
   "cell_type": "code",
   "execution_count": null,
   "metadata": {},
   "outputs": [],
   "source": [
    "train_report = classification_report(y_train, y_train_pred, target_names = ['ham', 'spam'], digits=3)\n",
    "print(\"Classification Report (Train Data):\")\n",
    "print(train_report)\n",
    "\n",
    "test_report = classification_report(y_test, y_test_pred, target_names = ['ham', 'spam'], digits=3)\n",
    "print(\"Classification Report (Test Data):\")\n",
    "print(test_report)"
   ]
  },
  {
   "cell_type": "code",
   "execution_count": null,
   "metadata": {},
   "outputs": [],
   "source": []
  },
  {
   "cell_type": "code",
   "execution_count": null,
   "metadata": {},
   "outputs": [],
   "source": []
  },
  {
   "cell_type": "code",
   "execution_count": null,
   "metadata": {},
   "outputs": [],
   "source": []
  },
  {
   "cell_type": "code",
   "execution_count": null,
   "metadata": {},
   "outputs": [],
   "source": []
  },
  {
   "cell_type": "code",
   "execution_count": null,
   "metadata": {},
   "outputs": [],
   "source": []
  },
  {
   "cell_type": "code",
   "execution_count": null,
   "metadata": {},
   "outputs": [],
   "source": []
  },
  {
   "cell_type": "code",
   "execution_count": null,
   "metadata": {},
   "outputs": [],
   "source": []
  },
  {
   "cell_type": "code",
   "execution_count": null,
   "metadata": {},
   "outputs": [],
   "source": [
    "# def aug_KeyboardAug(X_train, y_train, oversample_factor):\n",
    "#     augmenter = nac.KeyboardAug()  \n",
    "    \n",
    "#     positive_samples = X_train[y_train == 1]\n",
    "\n",
    "#     augmented_texts = []\n",
    "\n",
    "#     # Calcular cuántos ejemplos de spam quieres generar\n",
    "#     num_augmentations = int(len(positive_samples) * oversample_factor) - len(positive_samples)\n",
    "\n",
    "#     # Generar los ejemplos aumentados\n",
    "#     while len(augmented_texts) < num_augmentations:\n",
    "#         for message in positive_samples:\n",
    "#             augmented_text = augmenter.augment(message)\n",
    "#             augmented_texts.append(augmented_text)\n",
    "#             if len(augmented_texts) >= num_augmentations:\n",
    "#                 break\n",
    "\n",
    "#     augmented_series = pd.Series(augmented_texts, name=X_train.name)\n",
    "\n",
    "#     # Crear una Series con las etiquetas correspondientes\n",
    "#     augmented_labels = pd.Series([1] * len(augmented_series), index=augmented_series.index)\n",
    "\n",
    "#     # Combinar los datos augmentados con el conjunto original\n",
    "#     X_train_aug = pd.concat([X_train, augmented_series])\n",
    "#     y_train_aug = pd.concat([y_train, augmented_labels])\n",
    "\n",
    "#     return X_train_aug, y_train_aug\n",
    "\n",
    "\n",
    "# # Lista de factores de oversampling que deseas probar\n",
    "# oversample_factors = [1.25, 1.5, 1.75, 2]\n",
    "\n",
    "# # Suponiendo que X_train y y_train ya están definidos en tu código\n",
    "\n",
    "# # Crear un diccionario para almacenar los resultados de oversampling para cada factor\n",
    "# oversampled_data = {}\n",
    "\n",
    "# # Ejecutar la función aug_KeyboardAug para cada factor\n",
    "# for factor in oversample_factors:\n",
    "#     print(f\"Ejecutando oversampling con factor {factor}x...\")\n",
    "#     X_train_aug, y_train_aug = aug_KeyboardAug(X_train, y_train, factor)\n",
    "    \n",
    "#     # Almacenar los datos aumentados en el diccionario\n",
    "#     oversampled_data[factor] = (X_train_aug, y_train_aug)\n",
    "    \n",
    "#     # Imprimir el tamaño de las clases después del oversampling\n",
    "#     print(f\"Tamaño de clase ham después del oversampling: {sum(y_train_aug == 0)}\")\n",
    "#     print(f\"Tamaño de clase spam después del oversampling: {sum(y_train_aug == 1)}\")\n",
    "#     print(\"---\")"
   ]
  },
  {
   "cell_type": "code",
   "execution_count": null,
   "metadata": {},
   "outputs": [],
   "source": [
    "\n",
    "\n",
    "\n"
   ]
  },
  {
   "cell_type": "markdown",
   "metadata": {},
   "source": []
  },
  {
   "cell_type": "code",
   "execution_count": null,
   "metadata": {},
   "outputs": [],
   "source": [
    "aug = naw.SynonymAug(aug_src='wordnet',aug_max=20)"
   ]
  }
 ],
 "metadata": {
  "kernelspec": {
   "display_name": "spam-detector-P2ybB3t6-py3.10",
   "language": "python",
   "name": "python3"
  },
  "language_info": {
   "codemirror_mode": {
    "name": "ipython",
    "version": 3
   },
   "file_extension": ".py",
   "mimetype": "text/x-python",
   "name": "python",
   "nbconvert_exporter": "python",
   "pygments_lexer": "ipython3",
   "version": "3.10.12"
  }
 },
 "nbformat": 4,
 "nbformat_minor": 2
}
