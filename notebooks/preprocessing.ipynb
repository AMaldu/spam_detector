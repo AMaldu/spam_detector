{
 "cells": [
  {
   "cell_type": "markdown",
   "id": "8495b5d4",
   "metadata": {},
   "source": [
    "The objective of this notebook is to preprocess the dataset "
   ]
  },
  {
   "cell_type": "markdown",
   "id": "e158e213",
   "metadata": {},
   "source": [
    "## Libraries"
   ]
  },
  {
   "cell_type": "code",
   "execution_count": 1,
   "id": "02f92a15",
   "metadata": {},
   "outputs": [
    {
     "name": "stderr",
     "output_type": "stream",
     "text": [
      "[nltk_data] Downloading package punkt to /home/maldu/nltk_data...\n",
      "[nltk_data]   Package punkt is already up-to-date!\n",
      "[nltk_data] Downloading package punkt_tab to /home/maldu/nltk_data...\n",
      "[nltk_data]   Package punkt_tab is already up-to-date!\n",
      "[nltk_data] Downloading package wordnet to /home/maldu/nltk_data...\n",
      "[nltk_data]   Package wordnet is already up-to-date!\n"
     ]
    }
   ],
   "source": [
    "import pandas as pd \n",
    "import re\n",
    "from string import punctuation\n",
    "import nltk\n",
    "nltk.download('punkt')\n",
    "nltk.download('punkt_tab')\n",
    "from nltk.tokenize import word_tokenize\n",
    "from nltk.corpus import stopwords\n",
    "stop_words = set(stopwords.words('english'))\n",
    "nltk.download('wordnet')\n",
    "from nltk.stem.wordnet import WordNetLemmatizer\n"
   ]
  },
  {
   "cell_type": "code",
   "execution_count": 2,
   "id": "c3d43590",
   "metadata": {},
   "outputs": [
    {
     "name": "stdout",
     "output_type": "stream",
     "text": [
      "  Category                                            Message\n",
      "0      ham  Go until jurong point, crazy.. Available only ...\n",
      "1      ham                      Ok lar... Joking wif u oni...\n",
      "2     spam  Free entry in 2 a wkly comp to win FA Cup fina...\n",
      "3      ham  U dun say so early hor... U c already then say...\n",
      "4      ham  Nah I don't think he goes to usf, he lives aro...\n"
     ]
    }
   ],
   "source": [
    "df = pd.read_csv(\"../data/bronze/spam.csv\")\n",
    "pd.set_option('display.max_columns', None)\n",
    "print(df[0:5])"
   ]
  },
  {
   "cell_type": "markdown",
   "id": "c27f02a8",
   "metadata": {},
   "source": [
    "### Change data types"
   ]
  },
  {
   "cell_type": "code",
   "execution_count": 3,
   "id": "a551a55b",
   "metadata": {},
   "outputs": [],
   "source": [
    "df['Category'] = df['Category'].map({\"ham\": 0, \"spam\": 1}).astype(int)\n",
    "df['Message'] = df['Message'].astype(str)"
   ]
  },
  {
   "cell_type": "code",
   "execution_count": 4,
   "id": "1b0c7fcf",
   "metadata": {
    "scrolled": true
   },
   "outputs": [],
   "source": [
    "df_duplicated = df['Message'].duplicated().sum()"
   ]
  },
  {
   "cell_type": "code",
   "execution_count": 5,
   "id": "98816f49",
   "metadata": {},
   "outputs": [],
   "source": [
    "df.drop_duplicates(inplace=True)"
   ]
  },
  {
   "cell_type": "code",
   "execution_count": 6,
   "id": "b07dbe54",
   "metadata": {},
   "outputs": [],
   "source": [
    "def clean_text(text):\n",
    "    special_replacements = {\n",
    "        r\"£\": \"pound\",\n",
    "        r\"\\$\": \"dollar\",\n",
    "        r\"\\€\": \"euro\",\n",
    "        r\"%\": \"percentage\", \n",
    "        r\"ì\": \"i\",\n",
    "        r\"ü\": \"you\",\n",
    "        }\n",
    "    \n",
    "    emoticon_pattern = re.compile(r\"\"\"\n",
    "    [:;=Xx]           \n",
    "    [-~]?             \n",
    "    [\\)\\]\\(\\[dDpP/]   \n",
    "    \"\"\", re.VERBOSE)\n",
    "    \n",
    "    for pattern, replacement in special_replacements.items():\n",
    "        text = re.sub(pattern, replacement, text)\n",
    "    text = re.sub(emoticon_pattern, 'emoji', text)\n",
    "    text = text.lower()\n",
    "    text = re.sub('<[^<>]+>', ' ', text)\n",
    "    text = re.sub(r'http\\S+|www.\\S+', '', text)\n",
    "    text = re.sub('[0-9]+', 'number', text)\n",
    "    text = re.sub('[^\\s]+@[^\\s]+', 'emailaddr', text)\n",
    "    text = text.translate(str.maketrans('', '', punctuation))\n",
    "    text = re.sub(r'[^a-zA-Z\\s]', '', text)\n",
    "    text = re.sub(r'\\s+', ' ', text).strip()\n",
    "    return text"
   ]
  },
  {
   "cell_type": "code",
   "execution_count": 7,
   "id": "fde5f9b2",
   "metadata": {},
   "outputs": [],
   "source": [
    "df['Message']=df['Message'].apply(clean_text)\n",
    "df['Message'] = df['Message'].apply(word_tokenize)\n",
    "df['Message'] = df['Message'].apply(lambda x: [word for word in x if word not in stop_words])\n",
    "\n",
    "lemmatizer=WordNetLemmatizer()\n",
    "def lem_tokens(tokens):\n",
    "    return [lemmatizer.lemmatize(token) for token in tokens]\n",
    "\n",
    "df['Message'] = df['Message'].apply(lem_tokens)\n",
    "df = df[df['Message'].str.strip().astype(bool)]"
   ]
  },
  {
   "cell_type": "code",
   "execution_count": 8,
   "id": "ff39804e",
   "metadata": {},
   "outputs": [
    {
     "data": {
      "text/html": [
       "<div>\n",
       "<style scoped>\n",
       "    .dataframe tbody tr th:only-of-type {\n",
       "        vertical-align: middle;\n",
       "    }\n",
       "\n",
       "    .dataframe tbody tr th {\n",
       "        vertical-align: top;\n",
       "    }\n",
       "\n",
       "    .dataframe thead th {\n",
       "        text-align: right;\n",
       "    }\n",
       "</style>\n",
       "<table border=\"1\" class=\"dataframe\">\n",
       "  <thead>\n",
       "    <tr style=\"text-align: right;\">\n",
       "      <th></th>\n",
       "      <th>Category</th>\n",
       "      <th>Message</th>\n",
       "    </tr>\n",
       "  </thead>\n",
       "  <tbody>\n",
       "    <tr>\n",
       "      <th>0</th>\n",
       "      <td>0</td>\n",
       "      <td>[go, jurong, point, crazy, available, bugis, n...</td>\n",
       "    </tr>\n",
       "    <tr>\n",
       "      <th>1</th>\n",
       "      <td>0</td>\n",
       "      <td>[ok, lar, joking, wif, u, oni]</td>\n",
       "    </tr>\n",
       "    <tr>\n",
       "      <th>2</th>\n",
       "      <td>1</td>\n",
       "      <td>[free, entry, number, wkly, comp, win, fa, cup...</td>\n",
       "    </tr>\n",
       "    <tr>\n",
       "      <th>3</th>\n",
       "      <td>0</td>\n",
       "      <td>[u, dun, say, early, hor, u, c, already, say]</td>\n",
       "    </tr>\n",
       "    <tr>\n",
       "      <th>4</th>\n",
       "      <td>0</td>\n",
       "      <td>[nah, dont, think, go, usf, life, around, though]</td>\n",
       "    </tr>\n",
       "    <tr>\n",
       "      <th>...</th>\n",
       "      <td>...</td>\n",
       "      <td>...</td>\n",
       "    </tr>\n",
       "    <tr>\n",
       "      <th>5567</th>\n",
       "      <td>1</td>\n",
       "      <td>[numbernd, time, tried, number, contact, u, u,...</td>\n",
       "    </tr>\n",
       "    <tr>\n",
       "      <th>5568</th>\n",
       "      <td>0</td>\n",
       "      <td>[b, going, esplanade, fr, home]</td>\n",
       "    </tr>\n",
       "    <tr>\n",
       "      <th>5569</th>\n",
       "      <td>0</td>\n",
       "      <td>[pity, mood, soany, suggestion]</td>\n",
       "    </tr>\n",
       "    <tr>\n",
       "      <th>5570</th>\n",
       "      <td>0</td>\n",
       "      <td>[guy, bitching, acted, like, id, interested, b...</td>\n",
       "    </tr>\n",
       "    <tr>\n",
       "      <th>5571</th>\n",
       "      <td>0</td>\n",
       "      <td>[rofl, true, name]</td>\n",
       "    </tr>\n",
       "  </tbody>\n",
       "</table>\n",
       "<p>5157 rows × 2 columns</p>\n",
       "</div>"
      ],
      "text/plain": [
       "      Category                                            Message\n",
       "0            0  [go, jurong, point, crazy, available, bugis, n...\n",
       "1            0                     [ok, lar, joking, wif, u, oni]\n",
       "2            1  [free, entry, number, wkly, comp, win, fa, cup...\n",
       "3            0      [u, dun, say, early, hor, u, c, already, say]\n",
       "4            0  [nah, dont, think, go, usf, life, around, though]\n",
       "...        ...                                                ...\n",
       "5567         1  [numbernd, time, tried, number, contact, u, u,...\n",
       "5568         0                    [b, going, esplanade, fr, home]\n",
       "5569         0                    [pity, mood, soany, suggestion]\n",
       "5570         0  [guy, bitching, acted, like, id, interested, b...\n",
       "5571         0                                 [rofl, true, name]\n",
       "\n",
       "[5157 rows x 2 columns]"
      ]
     },
     "execution_count": 8,
     "metadata": {},
     "output_type": "execute_result"
    }
   ],
   "source": [
    "df.to_csv(\"../data/silver/df_preprocessed.csv\", index= False)\n",
    "df"
   ]
  }
 ],
 "metadata": {
  "kernelspec": {
   "display_name": "spam-detector-P2ybB3t6-py3.10",
   "language": "python",
   "name": "python3"
  },
  "language_info": {
   "codemirror_mode": {
    "name": "ipython",
    "version": 3
   },
   "file_extension": ".py",
   "mimetype": "text/x-python",
   "name": "python",
   "nbconvert_exporter": "python",
   "pygments_lexer": "ipython3",
   "version": "3.10.12"
  }
 },
 "nbformat": 4,
 "nbformat_minor": 5
}
