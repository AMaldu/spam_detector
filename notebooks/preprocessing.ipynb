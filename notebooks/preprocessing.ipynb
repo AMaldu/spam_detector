{
 "cells": [
  {
   "cell_type": "markdown",
   "id": "8495b5d4",
   "metadata": {},
   "source": [
    "The objective of this notebook is to preprocess the dataset "
   ]
  },
  {
   "cell_type": "markdown",
   "id": "e158e213",
   "metadata": {},
   "source": [
    "## Libraries"
   ]
  },
  {
   "cell_type": "code",
   "execution_count": null,
   "id": "02f92a15",
   "metadata": {},
   "outputs": [],
   "source": [
    "import pandas as pd \n",
    "import re\n",
    "from string import punctuation\n",
    "import nltk\n",
    "nltk.download('punkt')\n",
    "nltk.download('punkt_tab')\n",
    "from nltk.tokenize import word_tokenize\n",
    "from nltk.corpus import stopwords\n",
    "stop_words = set(stopwords.words('english'))\n",
    "nltk.download('wordnet')\n",
    "from nltk.stem.wordnet import WordNetLemmatizer\n"
   ]
  },
  {
   "cell_type": "code",
   "execution_count": 4,
   "id": "c3d43590",
   "metadata": {},
   "outputs": [],
   "source": [
    "df = pd.read_csv(\"../data/bronze/spam.csv\")\n"
   ]
  },
  {
   "cell_type": "markdown",
   "id": "c27f02a8",
   "metadata": {},
   "source": [
    "### Change data types"
   ]
  },
  {
   "cell_type": "code",
   "execution_count": 5,
   "id": "a551a55b",
   "metadata": {},
   "outputs": [],
   "source": [
    "df['Category'] = df['Category'].map({\"ham\": 0, \"spam\": 1}).astype(int)\n",
    "df['Message'] = df['Message'].astype(str)"
   ]
  },
  {
   "cell_type": "code",
   "execution_count": null,
   "id": "1b0c7fcf",
   "metadata": {
    "scrolled": true
   },
   "outputs": [
    {
     "name": "stdout",
     "output_type": "stream",
     "text": [
      "Total duplicated rows: 415\n"
     ]
    }
   ],
   "source": [
    "df_duplicated = df['Message'].duplicated().sum()"
   ]
  },
  {
   "cell_type": "code",
   "execution_count": 8,
   "id": "98816f49",
   "metadata": {},
   "outputs": [],
   "source": [
    "df.drop_duplicates(inplace=True)"
   ]
  },
  {
   "cell_type": "code",
   "execution_count": 19,
   "id": "b07dbe54",
   "metadata": {},
   "outputs": [],
   "source": [
    "def clean_text(text):\n",
    "    special_replacements = {\n",
    "        r\"£\": \"pound\",\n",
    "        r\"\\$\": \"dollar\",\n",
    "        r\"\\€\": \"euro\",\n",
    "        r\"%\": \"percentage\", \n",
    "        r\"ì\": \"i\",\n",
    "        r\"ü\": \"you\",\n",
    "        }\n",
    "    \n",
    "    emoticon_pattern = re.compile(r\"\"\"\n",
    "    [:;=Xx]           \n",
    "    [-~]?             \n",
    "    [\\)\\]\\(\\[dDpP/]   \n",
    "    \"\"\", re.VERBOSE)\n",
    "    \n",
    "    for pattern, replacement in special_replacements.items():\n",
    "        text = re.sub(pattern, replacement, text)\n",
    "    text = re.sub(emoticon_pattern, 'emoji', text)\n",
    "    text = text.lower()\n",
    "    text = re.sub('<[^<>]+>', ' ', text)\n",
    "    text = re.sub(r'http\\S+|www.\\S+', '', text)\n",
    "    text = re.sub('[0-9]+', 'number', text)\n",
    "    text = re.sub('[^\\s]+@[^\\s]+', 'emailaddr', text)\n",
    "    text = text.translate(str.maketrans('', '', punctuation))\n",
    "    text = re.sub(r'[^a-zA-Z\\s]', '', text)\n",
    "    text = re.sub(r'\\s+', ' ', text).strip()\n",
    "    return text"
   ]
  },
  {
   "cell_type": "code",
   "execution_count": null,
   "id": "fde5f9b2",
   "metadata": {},
   "outputs": [],
   "source": [
    "df['Message']=df['Message'].apply(clean_text)\n",
    "df['Message'] = df['Message'].apply(word_tokenize)\n",
    "df['Message'] = df['Message'].apply(lambda x: [word for word in x if word not in stop_words])\n",
    "\n",
    "lemmatizer=WordNetLemmatizer()\n",
    "def lem_tokens(tokens):\n",
    "    return [lemmatizer.lemmatize(token) for token in tokens]\n",
    "\n",
    "df['Message'] = df['Message'].apply(lem_tokens)\n",
    "df = df[df['Message'].str.strip().astype(bool)]"
   ]
  },
  {
   "cell_type": "code",
   "execution_count": null,
   "id": "ff39804e",
   "metadata": {},
   "outputs": [],
   "source": [
    "df.to_csv(\"../data/silver/df_preprocessed.csv\", index= False)"
   ]
  }
 ],
 "metadata": {
  "kernelspec": {
   "display_name": "spam-detector-P2ybB3t6-py3.10",
   "language": "python",
   "name": "python3"
  },
  "language_info": {
   "codemirror_mode": {
    "name": "ipython",
    "version": 3
   },
   "file_extension": ".py",
   "mimetype": "text/x-python",
   "name": "python",
   "nbconvert_exporter": "python",
   "pygments_lexer": "ipython3",
   "version": "3.10.12"
  }
 },
 "nbformat": 4,
 "nbformat_minor": 5
}
