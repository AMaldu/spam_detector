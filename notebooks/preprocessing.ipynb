{
 "cells": [
  {
   "cell_type": "markdown",
   "id": "8495b5d4",
   "metadata": {},
   "source": [
    "The objective of this notebook is to preprocess the dataset "
   ]
  },
  {
   "cell_type": "markdown",
   "id": "e158e213",
   "metadata": {},
   "source": [
    "## Libraries"
   ]
  },
  {
   "cell_type": "code",
   "execution_count": 28,
   "id": "02f92a15",
   "metadata": {},
   "outputs": [
    {
     "name": "stderr",
     "output_type": "stream",
     "text": [
      "[nltk_data] Downloading package punkt to /home/maldu/nltk_data...\n",
      "[nltk_data]   Package punkt is already up-to-date!\n",
      "[nltk_data] Downloading package punkt_tab to /home/maldu/nltk_data...\n",
      "[nltk_data]   Package punkt_tab is already up-to-date!\n",
      "[nltk_data] Downloading package wordnet to /home/maldu/nltk_data...\n",
      "[nltk_data]   Package wordnet is already up-to-date!\n"
     ]
    }
   ],
   "source": [
    "import pandas as pd \n",
    "import matplotlib.pyplot as plt\n",
    "import re\n",
    "from string import punctuation\n",
    "import nltk\n",
    "nltk.download('punkt')\n",
    "nltk.download('punkt_tab')\n",
    "from nltk.tokenize import word_tokenize\n",
    "from nltk.corpus import stopwords\n",
    "stop_words = set(stopwords.words('english'))\n",
    "nltk.download('wordnet')\n",
    "from nltk.stem.wordnet import WordNetLemmatizer\n"
   ]
  },
  {
   "cell_type": "code",
   "execution_count": 8,
   "id": "c3d43590",
   "metadata": {},
   "outputs": [],
   "source": [
    "df = pd.read_csv(\"../data/bronze/spam.csv\")\n"
   ]
  },
  {
   "cell_type": "markdown",
   "id": "c27f02a8",
   "metadata": {},
   "source": [
    "### Change data types"
   ]
  },
  {
   "cell_type": "code",
   "execution_count": 9,
   "id": "a551a55b",
   "metadata": {},
   "outputs": [],
   "source": [
    "df['Category'] = df['Category'].map({\"ham\": 0, \"spam\": 1}).astype(int)\n",
    "df['Message'] = df['Message'].astype(str)"
   ]
  },
  {
   "cell_type": "markdown",
   "id": "ddf36653",
   "metadata": {},
   "source": [
    "### Duplicated rows analysis"
   ]
  },
  {
   "cell_type": "code",
   "execution_count": 14,
   "id": "06c66597",
   "metadata": {},
   "outputs": [
    {
     "name": "stdout",
     "output_type": "stream",
     "text": [
      "Total duplicated rows: 415\n"
     ]
    }
   ],
   "source": [
    "total_duplicates = df.duplicated().sum()\n",
    "print(f\"Total duplicated rows: {total_duplicates}\")\n"
   ]
  },
  {
   "cell_type": "code",
   "execution_count": null,
   "id": "1b0c7fcf",
   "metadata": {
    "scrolled": true
   },
   "outputs": [
    {
     "data": {
      "text/html": [
       "<div>\n",
       "<style scoped>\n",
       "    .dataframe tbody tr th:only-of-type {\n",
       "        vertical-align: middle;\n",
       "    }\n",
       "\n",
       "    .dataframe tbody tr th {\n",
       "        vertical-align: top;\n",
       "    }\n",
       "\n",
       "    .dataframe thead th {\n",
       "        text-align: right;\n",
       "    }\n",
       "</style>\n",
       "<table border=\"1\" class=\"dataframe\">\n",
       "  <thead>\n",
       "    <tr style=\"text-align: right;\">\n",
       "      <th></th>\n",
       "      <th>Category</th>\n",
       "      <th>Message</th>\n",
       "      <th>count</th>\n",
       "    </tr>\n",
       "  </thead>\n",
       "  <tbody>\n",
       "    <tr>\n",
       "      <th>0</th>\n",
       "      <td>0</td>\n",
       "      <td>1) Go to write msg 2) Put on Dictionary mode 3...</td>\n",
       "      <td>3</td>\n",
       "    </tr>\n",
       "    <tr>\n",
       "      <th>1</th>\n",
       "      <td>0</td>\n",
       "      <td>7 wonders in My WORLD 7th You 6th Ur style 5th...</td>\n",
       "      <td>4</td>\n",
       "    </tr>\n",
       "    <tr>\n",
       "      <th>2</th>\n",
       "      <td>0</td>\n",
       "      <td>A Boy loved a gal. He propsd bt she didnt mind...</td>\n",
       "      <td>2</td>\n",
       "    </tr>\n",
       "    <tr>\n",
       "      <th>3</th>\n",
       "      <td>0</td>\n",
       "      <td>A bit of Ur smile is my hppnss, a drop of Ur t...</td>\n",
       "      <td>2</td>\n",
       "    </tr>\n",
       "    <tr>\n",
       "      <th>4</th>\n",
       "      <td>0</td>\n",
       "      <td>A boy was late 2 home. His father: \"POWER OF F...</td>\n",
       "      <td>2</td>\n",
       "    </tr>\n",
       "    <tr>\n",
       "      <th>...</th>\n",
       "      <td>...</td>\n",
       "      <td>...</td>\n",
       "      <td>...</td>\n",
       "    </tr>\n",
       "    <tr>\n",
       "      <th>284</th>\n",
       "      <td>1</td>\n",
       "      <td>You have an important customer service announc...</td>\n",
       "      <td>2</td>\n",
       "    </tr>\n",
       "    <tr>\n",
       "      <th>285</th>\n",
       "      <td>1</td>\n",
       "      <td>You have won a Nokia 7250i. This is what you g...</td>\n",
       "      <td>3</td>\n",
       "    </tr>\n",
       "    <tr>\n",
       "      <th>286</th>\n",
       "      <td>1</td>\n",
       "      <td>You won't believe it but it's true. It's Incre...</td>\n",
       "      <td>2</td>\n",
       "    </tr>\n",
       "    <tr>\n",
       "      <th>287</th>\n",
       "      <td>1</td>\n",
       "      <td>You've won tkts to the EURO2004 CUP FINAL or £...</td>\n",
       "      <td>2</td>\n",
       "    </tr>\n",
       "    <tr>\n",
       "      <th>288</th>\n",
       "      <td>1</td>\n",
       "      <td>Your free ringtone is waiting to be collected....</td>\n",
       "      <td>2</td>\n",
       "    </tr>\n",
       "  </tbody>\n",
       "</table>\n",
       "<p>289 rows × 3 columns</p>\n",
       "</div>"
      ],
      "text/plain": [
       "     Category                                            Message  count\n",
       "0           0  1) Go to write msg 2) Put on Dictionary mode 3...      3\n",
       "1           0  7 wonders in My WORLD 7th You 6th Ur style 5th...      4\n",
       "2           0  A Boy loved a gal. He propsd bt she didnt mind...      2\n",
       "3           0  A bit of Ur smile is my hppnss, a drop of Ur t...      2\n",
       "4           0  A boy was late 2 home. His father: \"POWER OF F...      2\n",
       "..        ...                                                ...    ...\n",
       "284         1  You have an important customer service announc...      2\n",
       "285         1  You have won a Nokia 7250i. This is what you g...      3\n",
       "286         1  You won't believe it but it's true. It's Incre...      2\n",
       "287         1  You've won tkts to the EURO2004 CUP FINAL or £...      2\n",
       "288         1  Your free ringtone is waiting to be collected....      2\n",
       "\n",
       "[289 rows x 3 columns]"
      ]
     },
     "execution_count": 23,
     "metadata": {},
     "output_type": "execute_result"
    }
   ],
   "source": [
    "duplicates_summary = df[df.duplicated(keep=False)].groupby(df.columns.tolist()).size().reset_index(name='count')\n",
    "duplicates_summary\n"
   ]
  },
  {
   "cell_type": "code",
   "execution_count": 24,
   "id": "69c4a9f6",
   "metadata": {},
   "outputs": [
    {
     "name": "stdout",
     "output_type": "stream",
     "text": [
      "Empty DataFrame\n",
      "Columns: [Message, Category]\n",
      "Index: []\n"
     ]
    }
   ],
   "source": [
    "duplicates_with_diff_category = (\n",
    "    df.groupby(df.columns.difference(['Category']).tolist())\n",
    "    .agg({'Category': 'nunique'})\n",
    "    .reset_index()\n",
    ")\n",
    "\n",
    "# Filtrar grupos donde la columna Category tenga más de un valor único\n",
    "conflicting_rows = duplicates_with_diff_category[duplicates_with_diff_category['Category'] > 1]\n",
    "\n",
    "print(conflicting_rows)\n"
   ]
  },
  {
   "cell_type": "code",
   "execution_count": 26,
   "id": "187efcf1",
   "metadata": {},
   "outputs": [
    {
     "data": {
      "text/html": [
       "<div>\n",
       "<style scoped>\n",
       "    .dataframe tbody tr th:only-of-type {\n",
       "        vertical-align: middle;\n",
       "    }\n",
       "\n",
       "    .dataframe tbody tr th {\n",
       "        vertical-align: top;\n",
       "    }\n",
       "\n",
       "    .dataframe thead th {\n",
       "        text-align: right;\n",
       "    }\n",
       "</style>\n",
       "<table border=\"1\" class=\"dataframe\">\n",
       "  <thead>\n",
       "    <tr style=\"text-align: right;\">\n",
       "      <th></th>\n",
       "      <th>Category</th>\n",
       "      <th>Message</th>\n",
       "    </tr>\n",
       "  </thead>\n",
       "  <tbody>\n",
       "    <tr>\n",
       "      <th>2124</th>\n",
       "      <td>1</td>\n",
       "      <td>#ERROR!</td>\n",
       "    </tr>\n",
       "    <tr>\n",
       "      <th>717</th>\n",
       "      <td>1</td>\n",
       "      <td>#ERROR!</td>\n",
       "    </tr>\n",
       "    <tr>\n",
       "      <th>505</th>\n",
       "      <td>1</td>\n",
       "      <td>#ERROR!</td>\n",
       "    </tr>\n",
       "    <tr>\n",
       "      <th>2163</th>\n",
       "      <td>0</td>\n",
       "      <td>1) Go to write msg 2) Put on Dictionary mode 3...</td>\n",
       "    </tr>\n",
       "    <tr>\n",
       "      <th>1373</th>\n",
       "      <td>0</td>\n",
       "      <td>1) Go to write msg 2) Put on Dictionary mode 3...</td>\n",
       "    </tr>\n",
       "    <tr>\n",
       "      <th>...</th>\n",
       "      <td>...</td>\n",
       "      <td>...</td>\n",
       "    </tr>\n",
       "    <tr>\n",
       "      <th>1381</th>\n",
       "      <td>0</td>\n",
       "      <td>i dnt wnt to tlk wid u</td>\n",
       "    </tr>\n",
       "    <tr>\n",
       "      <th>4004</th>\n",
       "      <td>0</td>\n",
       "      <td>somewhere out there beneath the pale moon ligh...</td>\n",
       "    </tr>\n",
       "    <tr>\n",
       "      <th>1412</th>\n",
       "      <td>0</td>\n",
       "      <td>somewhere out there beneath the pale moon ligh...</td>\n",
       "    </tr>\n",
       "    <tr>\n",
       "      <th>2389</th>\n",
       "      <td>0</td>\n",
       "      <td>wiskey Brandy Rum Gin Beer Vodka Scotch Shampa...</td>\n",
       "    </tr>\n",
       "    <tr>\n",
       "      <th>3446</th>\n",
       "      <td>0</td>\n",
       "      <td>wiskey Brandy Rum Gin Beer Vodka Scotch Shampa...</td>\n",
       "    </tr>\n",
       "  </tbody>\n",
       "</table>\n",
       "<p>704 rows × 2 columns</p>\n",
       "</div>"
      ],
      "text/plain": [
       "      Category                                            Message\n",
       "2124         1                                            #ERROR!\n",
       "717          1                                            #ERROR!\n",
       "505          1                                            #ERROR!\n",
       "2163         0  1) Go to write msg 2) Put on Dictionary mode 3...\n",
       "1373         0  1) Go to write msg 2) Put on Dictionary mode 3...\n",
       "...        ...                                                ...\n",
       "1381         0                             i dnt wnt to tlk wid u\n",
       "4004         0  somewhere out there beneath the pale moon ligh...\n",
       "1412         0  somewhere out there beneath the pale moon ligh...\n",
       "2389         0  wiskey Brandy Rum Gin Beer Vodka Scotch Shampa...\n",
       "3446         0  wiskey Brandy Rum Gin Beer Vodka Scotch Shampa...\n",
       "\n",
       "[704 rows x 2 columns]"
      ]
     },
     "execution_count": 26,
     "metadata": {},
     "output_type": "execute_result"
    }
   ],
   "source": [
    "conflicting_indices = df[df.duplicated(subset=df.columns.difference(['Category']), keep=False)]\n",
    "conflicting_indices.sort_values(by=df.columns.difference(['Category']).tolist())\n"
   ]
  },
  {
   "cell_type": "code",
   "execution_count": null,
   "id": "cc3d3119",
   "metadata": {},
   "outputs": [
    {
     "data": {
      "text/html": [
       "<div>\n",
       "<style scoped>\n",
       "    .dataframe tbody tr th:only-of-type {\n",
       "        vertical-align: middle;\n",
       "    }\n",
       "\n",
       "    .dataframe tbody tr th {\n",
       "        vertical-align: top;\n",
       "    }\n",
       "\n",
       "    .dataframe thead th {\n",
       "        text-align: right;\n",
       "    }\n",
       "</style>\n",
       "<table border=\"1\" class=\"dataframe\">\n",
       "  <thead>\n",
       "    <tr style=\"text-align: right;\">\n",
       "      <th></th>\n",
       "      <th>Category</th>\n",
       "      <th>Message</th>\n",
       "      <th>count</th>\n",
       "    </tr>\n",
       "  </thead>\n",
       "  <tbody>\n",
       "    <tr>\n",
       "      <th>0</th>\n",
       "      <td>0</td>\n",
       "      <td>1) Go to write msg 2) Put on Dictionary mode 3...</td>\n",
       "      <td>3</td>\n",
       "    </tr>\n",
       "    <tr>\n",
       "      <th>1</th>\n",
       "      <td>0</td>\n",
       "      <td>7 wonders in My WORLD 7th You 6th Ur style 5th...</td>\n",
       "      <td>4</td>\n",
       "    </tr>\n",
       "    <tr>\n",
       "      <th>2</th>\n",
       "      <td>0</td>\n",
       "      <td>A Boy loved a gal. He propsd bt she didnt mind...</td>\n",
       "      <td>2</td>\n",
       "    </tr>\n",
       "    <tr>\n",
       "      <th>3</th>\n",
       "      <td>0</td>\n",
       "      <td>A bit of Ur smile is my hppnss, a drop of Ur t...</td>\n",
       "      <td>2</td>\n",
       "    </tr>\n",
       "    <tr>\n",
       "      <th>4</th>\n",
       "      <td>0</td>\n",
       "      <td>A boy was late 2 home. His father: \"POWER OF F...</td>\n",
       "      <td>2</td>\n",
       "    </tr>\n",
       "    <tr>\n",
       "      <th>...</th>\n",
       "      <td>...</td>\n",
       "      <td>...</td>\n",
       "      <td>...</td>\n",
       "    </tr>\n",
       "    <tr>\n",
       "      <th>284</th>\n",
       "      <td>1</td>\n",
       "      <td>You have an important customer service announc...</td>\n",
       "      <td>2</td>\n",
       "    </tr>\n",
       "    <tr>\n",
       "      <th>285</th>\n",
       "      <td>1</td>\n",
       "      <td>You have won a Nokia 7250i. This is what you g...</td>\n",
       "      <td>3</td>\n",
       "    </tr>\n",
       "    <tr>\n",
       "      <th>286</th>\n",
       "      <td>1</td>\n",
       "      <td>You won't believe it but it's true. It's Incre...</td>\n",
       "      <td>2</td>\n",
       "    </tr>\n",
       "    <tr>\n",
       "      <th>287</th>\n",
       "      <td>1</td>\n",
       "      <td>You've won tkts to the EURO2004 CUP FINAL or £...</td>\n",
       "      <td>2</td>\n",
       "    </tr>\n",
       "    <tr>\n",
       "      <th>288</th>\n",
       "      <td>1</td>\n",
       "      <td>Your free ringtone is waiting to be collected....</td>\n",
       "      <td>2</td>\n",
       "    </tr>\n",
       "  </tbody>\n",
       "</table>\n",
       "<p>289 rows × 3 columns</p>\n",
       "</div>"
      ],
      "text/plain": [
       "     Category                                            Message  count\n",
       "0           0  1) Go to write msg 2) Put on Dictionary mode 3...      3\n",
       "1           0  7 wonders in My WORLD 7th You 6th Ur style 5th...      4\n",
       "2           0  A Boy loved a gal. He propsd bt she didnt mind...      2\n",
       "3           0  A bit of Ur smile is my hppnss, a drop of Ur t...      2\n",
       "4           0  A boy was late 2 home. His father: \"POWER OF F...      2\n",
       "..        ...                                                ...    ...\n",
       "284         1  You have an important customer service announc...      2\n",
       "285         1  You have won a Nokia 7250i. This is what you g...      3\n",
       "286         1  You won't believe it but it's true. It's Incre...      2\n",
       "287         1  You've won tkts to the EURO2004 CUP FINAL or £...      2\n",
       "288         1  Your free ringtone is waiting to be collected....      2\n",
       "\n",
       "[289 rows x 3 columns]"
      ]
     },
     "execution_count": 22,
     "metadata": {},
     "output_type": "execute_result"
    }
   ],
   "source": [
    "duplicates_summary\n"
   ]
  },
  {
   "cell_type": "code",
   "execution_count": 19,
   "id": "955b04e9",
   "metadata": {},
   "outputs": [
    {
     "name": "stdout",
     "output_type": "stream",
     "text": [
      "Percentage of duplicated: 7.45%\n"
     ]
    }
   ],
   "source": [
    "percent_duplicates = (total_duplicates / len(df)) * 100\n",
    "print(f\"Percentage of duplicated: {percent_duplicates:.2f}%\")\n"
   ]
  },
  {
   "cell_type": "code",
   "execution_count": 36,
   "id": "cc2a677b",
   "metadata": {},
   "outputs": [
    {
     "data": {
      "image/png": "[encoded data removed]",
      "text/plain": [
       "<Figure size 800x600 with 1 Axes>"
      ]
     },
     "metadata": {},
     "output_type": "display_data"
    }
   ],
   "source": [
    "category_0 = duplicates_summary[duplicates_summary['Category'] == 0]\n",
    "category_1 = duplicates_summary[duplicates_summary['Category'] == 1]\n",
    "\n",
    "bins = range(min(duplicates_summary['count']), max(duplicates_summary['count']) + 2, 1)\n",
    "\n",
    "cmap = plt.cm.viridis\n",
    "color_0 = cmap(0.2) \n",
    "color_1 = cmap(0.8)  \n",
    "\n",
    "plt.figure(figsize=(8, 6))\n",
    "n_0, bins_0, patches_0 = plt.hist(category_0['count'], bins=bins, color=color_0, alpha=0.7, label='ham')\n",
    "n_1, bins_1, patches_1 = plt.hist(category_1['count'], bins=bins, color=color_1, alpha=0.7, label='spam')\n",
    "\n",
    "for i in range(len(patches_0)):\n",
    "    height = patches_0[i].get_height()  \n",
    "    if height > 0: \n",
    "        plt.text(patches_0[i].get_x() + patches_0[i].get_width() / 2, height, str(int(height)),\n",
    "                 ha='center', va='bottom', fontsize=10, color='black')\n",
    "\n",
    "for i in range(len(patches_1)):\n",
    "    height = patches_1[i].get_height()  \n",
    "    if height > 0:  \n",
    "        plt.text(patches_1[i].get_x() + patches_1[i].get_width() / 2, height, str(int(height)),\n",
    "                 ha='center', va='bottom', fontsize=10, color='black')\n",
    "\n",
    "plt.title(\"Distro of Duplicated Frequencies per Category\")\n",
    "plt.xlabel(\"Count of repetitions\")\n",
    "plt.ylabel(\"Num of rows\")\n",
    "plt.legend()\n",
    "plt.show()"
   ]
  },
  {
   "cell_type": "markdown",
   "id": "f0cdeb03",
   "metadata": {},
   "source": [
    "Note:\n",
    "\n",
    "It seems that duplicated e-mails are less likely to be repeated. I didn't expect that...\n",
    "I will delete them for now"
   ]
  },
  {
   "cell_type": "code",
   "execution_count": 5,
   "id": "98816f49",
   "metadata": {},
   "outputs": [],
   "source": [
    "df.drop_duplicates(inplace=True)"
   ]
  },
  {
   "cell_type": "code",
   "execution_count": 6,
   "id": "b07dbe54",
   "metadata": {},
   "outputs": [],
   "source": [
    "def clean_text(text):\n",
    "    special_replacements = {\n",
    "        r\"£\": \"pound\",\n",
    "        r\"\\$\": \"dollar\",\n",
    "        r\"\\€\": \"euro\",\n",
    "        r\"%\": \"percentage\", \n",
    "        r\"ì\": \"i\",\n",
    "        r\"ü\": \"you\",\n",
    "        }\n",
    "    \n",
    "    emoticon_pattern = re.compile(r\"\"\"\n",
    "    [:;=Xx]           \n",
    "    [-~]?             \n",
    "    [\\)\\]\\(\\[dDpP/]   \n",
    "    \"\"\", re.VERBOSE)\n",
    "    \n",
    "    for pattern, replacement in special_replacements.items():\n",
    "        text = re.sub(pattern, replacement, text)\n",
    "    text = re.sub(emoticon_pattern, 'emoji', text)\n",
    "    text = text.lower()\n",
    "    text = re.sub('<[^<>]+>', ' ', text)\n",
    "    text = re.sub(r'http\\S+|www.\\S+', '', text)\n",
    "    text = re.sub('[0-9]+', 'number', text)\n",
    "    text = re.sub('[^\\s]+@[^\\s]+', 'emailaddr', text)\n",
    "    text = text.translate(str.maketrans('', '', punctuation))\n",
    "    text = re.sub(r'[^a-zA-Z\\s]', '', text)\n",
    "    text = re.sub(r'\\s+', ' ', text).strip()\n",
    "    return text"
   ]
  },
  {
   "cell_type": "code",
   "execution_count": 7,
   "id": "fde5f9b2",
   "metadata": {},
   "outputs": [],
   "source": [
    "df['Message']=df['Message'].apply(clean_text)\n",
    "df['Message'] = df['Message'].apply(word_tokenize)\n",
    "df['Message'] = df['Message'].apply(lambda x: [word for word in x if word not in stop_words])\n",
    "\n",
    "lemmatizer=WordNetLemmatizer()\n",
    "def lem_tokens(tokens):\n",
    "    return [lemmatizer.lemmatize(token) for token in tokens]\n",
    "\n",
    "df['Message'] = df['Message'].apply(lem_tokens)\n",
    "df = df[df['Message'].str.strip().astype(bool)]"
   ]
  },
  {
   "cell_type": "code",
   "execution_count": 8,
   "id": "ff39804e",
   "metadata": {},
   "outputs": [
    {
     "data": {
      "text/html": [
       "<div>\n",
       "<style scoped>\n",
       "    .dataframe tbody tr th:only-of-type {\n",
       "        vertical-align: middle;\n",
       "    }\n",
       "\n",
       "    .dataframe tbody tr th {\n",
       "        vertical-align: top;\n",
       "    }\n",
       "\n",
       "    .dataframe thead th {\n",
       "        text-align: right;\n",
       "    }\n",
       "</style>\n",
       "<table border=\"1\" class=\"dataframe\">\n",
       "  <thead>\n",
       "    <tr style=\"text-align: right;\">\n",
       "      <th></th>\n",
       "      <th>Category</th>\n",
       "      <th>Message</th>\n",
       "    </tr>\n",
       "  </thead>\n",
       "  <tbody>\n",
       "    <tr>\n",
       "      <th>0</th>\n",
       "      <td>0</td>\n",
       "      <td>[go, jurong, point, crazy, available, bugis, n...</td>\n",
       "    </tr>\n",
       "    <tr>\n",
       "      <th>1</th>\n",
       "      <td>0</td>\n",
       "      <td>[ok, lar, joking, wif, u, oni]</td>\n",
       "    </tr>\n",
       "    <tr>\n",
       "      <th>2</th>\n",
       "      <td>1</td>\n",
       "      <td>[free, entry, number, wkly, comp, win, fa, cup...</td>\n",
       "    </tr>\n",
       "    <tr>\n",
       "      <th>3</th>\n",
       "      <td>0</td>\n",
       "      <td>[u, dun, say, early, hor, u, c, already, say]</td>\n",
       "    </tr>\n",
       "    <tr>\n",
       "      <th>4</th>\n",
       "      <td>0</td>\n",
       "      <td>[nah, dont, think, go, usf, life, around, though]</td>\n",
       "    </tr>\n",
       "    <tr>\n",
       "      <th>...</th>\n",
       "      <td>...</td>\n",
       "      <td>...</td>\n",
       "    </tr>\n",
       "    <tr>\n",
       "      <th>5567</th>\n",
       "      <td>1</td>\n",
       "      <td>[numbernd, time, tried, number, contact, u, u,...</td>\n",
       "    </tr>\n",
       "    <tr>\n",
       "      <th>5568</th>\n",
       "      <td>0</td>\n",
       "      <td>[b, going, esplanade, fr, home]</td>\n",
       "    </tr>\n",
       "    <tr>\n",
       "      <th>5569</th>\n",
       "      <td>0</td>\n",
       "      <td>[pity, mood, soany, suggestion]</td>\n",
       "    </tr>\n",
       "    <tr>\n",
       "      <th>5570</th>\n",
       "      <td>0</td>\n",
       "      <td>[guy, bitching, acted, like, id, interested, b...</td>\n",
       "    </tr>\n",
       "    <tr>\n",
       "      <th>5571</th>\n",
       "      <td>0</td>\n",
       "      <td>[rofl, true, name]</td>\n",
       "    </tr>\n",
       "  </tbody>\n",
       "</table>\n",
       "<p>5157 rows × 2 columns</p>\n",
       "</div>"
      ],
      "text/plain": [
       "      Category                                            Message\n",
       "0            0  [go, jurong, point, crazy, available, bugis, n...\n",
       "1            0                     [ok, lar, joking, wif, u, oni]\n",
       "2            1  [free, entry, number, wkly, comp, win, fa, cup...\n",
       "3            0      [u, dun, say, early, hor, u, c, already, say]\n",
       "4            0  [nah, dont, think, go, usf, life, around, though]\n",
       "...        ...                                                ...\n",
       "5567         1  [numbernd, time, tried, number, contact, u, u,...\n",
       "5568         0                    [b, going, esplanade, fr, home]\n",
       "5569         0                    [pity, mood, soany, suggestion]\n",
       "5570         0  [guy, bitching, acted, like, id, interested, b...\n",
       "5571         0                                 [rofl, true, name]\n",
       "\n",
       "[5157 rows x 2 columns]"
      ]
     },
     "execution_count": 8,
     "metadata": {},
     "output_type": "execute_result"
    }
   ],
   "source": [
    "df.to_csv(\"../data/silver/df_preprocessed.csv\", index= False)\n",
    "df"
   ]
  }
 ],
 "metadata": {
  "kernelspec": {
   "display_name": "spam-detector-P2ybB3t6-py3.10",
   "language": "python",
   "name": "python3"
  },
  "language_info": {
   "codemirror_mode": {
    "name": "ipython",
    "version": 3
   },
   "file_extension": ".py",
   "mimetype": "text/x-python",
   "name": "python",
   "nbconvert_exporter": "python",
   "pygments_lexer": "ipython3",
   "version": "3.10.12"
  }
 },
 "nbformat": 4,
 "nbformat_minor": 5
}
