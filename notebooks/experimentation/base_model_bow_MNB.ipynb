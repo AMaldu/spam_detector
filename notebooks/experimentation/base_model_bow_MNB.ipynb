{
 "cells": [
  {
   "cell_type": "markdown",
   "metadata": {},
   "source": [
    "The objective of this notebook is to run BOW and Multinomial Naive Bayes as our baseline model to have a reference in our experimentation\n"
   ]
  },
  {
   "cell_type": "markdown",
   "metadata": {},
   "source": [
    "## Datasets"
   ]
  },
  {
   "cell_type": "code",
   "execution_count": 37,
   "metadata": {},
   "outputs": [],
   "source": [
    "import pandas as pd\n",
    "from mlflow.models import infer_signature\n",
    "import warnings\n",
    "warnings.filterwarnings('ignore')\n",
    "\n",
    "\n",
    "train = pd.read_csv(\"../../data/gold/train.csv\")\n",
    "test = pd.read_csv(\"../../data/gold/test.csv\")\n",
    "val = pd.read_csv(\"../../data/gold/validation.csv\")\n",
    "\n",
    "X_train = train['features']\n",
    "y_train = train['target']\n",
    "X_test = test['features']\n",
    "y_test = test['target']\n",
    "signature = infer_signature(X_train, y_train)"
   ]
  },
  {
   "cell_type": "markdown",
   "metadata": {},
   "source": [
    "## Pipeline"
   ]
  },
  {
   "cell_type": "code",
   "execution_count": 38,
   "metadata": {},
   "outputs": [],
   "source": [
    "import matplotlib.pyplot as plt\n",
    "from sklearn.feature_extraction.text import CountVectorizer\n",
    "from sklearn.naive_bayes import MultinomialNB\n",
    "from sklearn.pipeline import Pipeline\n",
    "from sklearn.metrics import (\n",
    "    fbeta_score,\n",
    "    accuracy_score,\n",
    "    classification_report,\n",
    "    confusion_matrix,\n",
    "    ConfusionMatrixDisplay,\n",
    "    precision_recall_curve,\n",
    "    auc,\n",
    "    balanced_accuracy_score,\n",
    ")\n",
    "\n",
    "\n",
    "pipeline = Pipeline([\n",
    "        ('vectorizer', CountVectorizer(ngram_range=(1, 1), max_features=None)),\n",
    "        ('classifier', MultinomialNB())\n",
    "    ])\n",
    "    \n",
    "pipeline.fit(X_train, y_train)\n",
    "y_test_pred = pipeline.predict(X_test)\n"
   ]
  },
  {
   "cell_type": "code",
   "execution_count": 39,
   "metadata": {},
   "outputs": [
    {
     "name": "stdout",
     "output_type": "stream",
     "text": [
      "Accuracy: 0.98 \n"
     ]
    }
   ],
   "source": [
    "test_accuracy = accuracy_score(y_test, y_test_pred)\n",
    "print(f\"Accuracy: {test_accuracy:.2f} \")"
   ]
  },
  {
   "cell_type": "markdown",
   "metadata": {},
   "source": [
    "Notes: \n",
    "\n",
    "As expected our model has a high accuracy that doesn't mean much since the dataset is imbalanced"
   ]
  },
  {
   "cell_type": "code",
   "execution_count": 40,
   "metadata": {},
   "outputs": [
    {
     "name": "stdout",
     "output_type": "stream",
     "text": [
      "Balanced Accuracy: 0.97\n"
     ]
    }
   ],
   "source": [
    "balanced_accuracy = balanced_accuracy_score(y_test, y_test_pred)\n",
    "print(f\"Balanced Accuracy: {balanced_accuracy:.2f}\")"
   ]
  },
  {
   "cell_type": "markdown",
   "metadata": {},
   "source": [
    "Notes: \n",
    "\n",
    "The model is correctly identifying both spam and non-spam messages with a high level of recall."
   ]
  },
  {
   "cell_type": "code",
   "execution_count": 41,
   "metadata": {},
   "outputs": [
    {
     "name": "stdout",
     "output_type": "stream",
     "text": [
      "F0.5-Score: 0.90\n"
     ]
    }
   ],
   "source": [
    "# F0.5-Score\n",
    "f0_5_score = fbeta_score(y_test, y_test_pred, beta=0.5)\n",
    "print(f\"F0.5-Score: {f0_5_score:.2f}\")"
   ]
  },
  {
   "cell_type": "code",
   "execution_count": 42,
   "metadata": {},
   "outputs": [
    {
     "name": "stdout",
     "output_type": "stream",
     "text": [
      "Classification Report (Test Data):\n",
      "              precision    recall  f1-score   support\n",
      "\n",
      "           0       0.99      0.98      0.99       453\n",
      "           1       0.88      0.95      0.92        63\n",
      "\n",
      "    accuracy                           0.98       516\n",
      "   macro avg       0.94      0.97      0.95       516\n",
      "weighted avg       0.98      0.98      0.98       516\n",
      "\n"
     ]
    }
   ],
   "source": [
    "report = classification_report(y_test, y_test_pred)\n",
    "print(\"Classification Report (Test Data):\")\n",
    "print(report)"
   ]
  },
  {
   "cell_type": "markdown",
   "metadata": {},
   "source": [
    "Notes:\n",
    "\n",
    "- f0.5-score: the metric chosen since I want to give more important to the false positives. A value of 0.85 indicates good performance of the model. \n",
    "- Precision: 82% of the predicted positives are true positives. Good performance.\n",
    "- Recall: 95% of the real positives are true positives. Good performance.\n",
    "- F1-score: the model is doing a decent job but since the dataset is imbalanced and I want to focus on the false positives, I take it with a grain of salt. \n",
    "- Accuracy and macro avg can be ignored.\n",
    "- Weighted avgs: they also look good but we have to remember that depending on the disbalance of our dataset, these values can hide issues.  "
   ]
  },
  {
   "cell_type": "code",
   "execution_count": 43,
   "metadata": {},
   "outputs": [
    {
     "data": {
      "image/png": "[encoded data removed]",
      "text/plain": [
       "<Figure size 800x600 with 2 Axes>"
      ]
     },
     "metadata": {},
     "output_type": "display_data"
    }
   ],
   "source": [
    "test_conf_matrix = confusion_matrix(y_test, y_test_pred)\n",
    "matrix_fig, ax = plt.subplots(figsize=(8, 6))\n",
    "cm_display = ConfusionMatrixDisplay(confusion_matrix=test_conf_matrix, display_labels=['Ham', 'Spam'])\n",
    "cm_display.plot(cmap='Blues', ax=ax)\n",
    "plt.title(\"Confusion Matrix\")\n",
    "plt.show()"
   ]
  },
  {
   "cell_type": "markdown",
   "metadata": {},
   "source": [
    "Notes:\n",
    "\n",
    "The confusion matrix looks very good.\n",
    "- 13 e-mails were predicted as SPAM but they were HAM. (these are the ones I will try to minimize)\n",
    "- 3 e-mails were predicted as HAM but they were SPAM."
   ]
  },
  {
   "cell_type": "code",
   "execution_count": 44,
   "metadata": {},
   "outputs": [
    {
     "data": {
      "image/png": "[encoded data removed]",
      "text/plain": [
       "<Figure size 800x600 with 1 Axes>"
      ]
     },
     "metadata": {},
     "output_type": "display_data"
    }
   ],
   "source": [
    "y_test_pred_prob = pipeline.predict_proba(X_test)[:, 1]\n",
    "\n",
    "precision, recall, _ = precision_recall_curve(y_test, y_test_pred_prob)\n",
    "pr_auc = auc(recall, precision)\n",
    "\n",
    "pr_fig, ax = plt.subplots(figsize=(8, 6))  \n",
    "ax.plot(recall, precision, color='b', label=f'PR AUC = {pr_auc:.2f}')\n",
    "ax.set_xlabel('Recall')\n",
    "ax.set_ylabel('Precision')\n",
    "ax.set_title('Precision-Recall Curve')\n",
    "ax.legend(loc=\"best\")\n",
    "ax.grid(True)\n",
    "plt.show()\n"
   ]
  },
  {
   "cell_type": "markdown",
   "metadata": {},
   "source": [
    "Notes: \n",
    "\n",
    "The area under the curve is 0.96 so the model strikes a strong balance between precision and recall across thresholds. The model identifies spam effectively without producing excessive false positives."
   ]
  },
  {
   "cell_type": "markdown",
   "metadata": {},
   "source": [
    "## MLFlow config\n"
   ]
  },
  {
   "cell_type": "code",
   "execution_count": null,
   "metadata": {},
   "outputs": [
    {
     "data": {
      "text/plain": [
       "('spam-classifier',\n",
       " 'This experiment contains mlruns for different approaches in the ml lifecycle of an e-mail spam detector classifier.',\n",
       " {'project_name': 'NLP-text-classifier',\n",
       "  'project_stage': 'testing',\n",
       "  'team': 'ml-team',\n",
       "  'project_quarter': 'Q4-2024'})"
      ]
     },
     "execution_count": 45,
     "metadata": {},
     "output_type": "execute_result"
    }
   ],
   "source": [
    "from experiments_utils import experiment_status\n",
    "import mlflow\n",
    "\n",
    "import os\n",
    "mlflow.set_tracking_uri(\"http://127.0.0.1:5000\")\n",
    "experiment_status()"
   ]
  },
  {
   "cell_type": "code",
   "execution_count": 46,
   "metadata": {},
   "outputs": [],
   "source": [
    "# on the console\n",
    "# mlflow server --backend-store-uri sqlite:///backend.db --default-artifact-root ./artifacts\n",
    "# mlflow.search_experiments()\n",
    "\n",
    "# from mlflow.tracking import MlflowClient\n",
    "# client = MlflowClient()\n",
    "# client.delete_run(\"81b0d40ddc814076a95bc6fd9d4fff34\")"
   ]
  },
  {
   "cell_type": "code",
   "execution_count": 47,
   "metadata": {},
   "outputs": [
    {
     "data": {
      "text/plain": [
       "<Experiment: artifact_location='/home/maldu/dscience/projects/spam_detector/notebooks/experimentation/artifacts/1', creation_time=1733501883396, experiment_id='1', last_update_time=1733501883396, lifecycle_stage='active', name='spam-classifier', tags={}>"
      ]
     },
     "execution_count": 47,
     "metadata": {},
     "output_type": "execute_result"
    }
   ],
   "source": [
    "experiment_name, _, _ = experiment_status()\n",
    "mlflow.set_experiment(experiment_name)"
   ]
  },
  {
   "cell_type": "markdown",
   "metadata": {},
   "source": [
    "## MlFlow tracking"
   ]
  },
  {
   "cell_type": "code",
   "execution_count": 48,
   "metadata": {},
   "outputs": [
    {
     "name": "stderr",
     "output_type": "stream",
     "text": [
      "2024/12/06 17:58:47 INFO mlflow.system_metrics.system_metrics_monitor: Started monitoring system metrics.\n"
     ]
    },
    {
     "name": "stderr",
     "output_type": "stream",
     "text": [
      "2024/12/06 17:58:50 INFO mlflow.system_metrics.system_metrics_monitor: Stopping system metrics monitoring...\n",
      "2024/12/06 17:58:50 INFO mlflow.system_metrics.system_metrics_monitor: Successfully terminated system metrics monitoring!\n"
     ]
    },
    {
     "name": "stdout",
     "output_type": "stream",
     "text": [
      "Pipeline logged to MLflow under run ID cef71d8d4a724c069c2f17a0b833ec38\n",
      "🏃 View run baseline-model at: http://127.0.0.1:5000/#/experiments/1/runs/cef71d8d4a724c069c2f17a0b833ec38\n",
      "🧪 View experiment at: http://127.0.0.1:5000/#/experiments/1\n"
     ]
    }
   ],
   "source": [
    "   \n",
    "with mlflow.start_run(run_name=\"baseline-model\", log_system_metrics=True) as run:\n",
    "    \n",
    "    # Tags\n",
    "    mlflow.set_tag(\"model\", \"Reference model MultinomialNB + BOW\")\n",
    "    mlflow.set_tag(\"developer\", \"Mldu\")\n",
    "    mlflow.set_tag(\"version\", \"1.0.0\")\n",
    "    mlflow.set_tag(\"project_stage\", \"testing\")\n",
    "\n",
    "    #Datasets\n",
    "    mlflow.log_input(mlflow.data.from_pandas(train, name=\"train dataset\", targets=\"target\"))\n",
    "    mlflow.log_input(mlflow.data.from_pandas(test, name=\"test dataset\", targets=\"target\"))\n",
    "    mlflow.log_input(mlflow.data.from_pandas(val, name=\"validation dataset\", targets=\"target\"))\n",
    "    mlflow.log_artifact(\"../../data/gold/train.csv\")\n",
    "    mlflow.log_artifact(\"../../data/gold/test.csv\")\n",
    "    mlflow.log_artifact(\"../../data/gold/validation.csv\")\n",
    "\n",
    "    \n",
    "    #BOW and model\n",
    "    mlflow.log_param(\"vectorizer_type\", \"CountVectorizer\")\n",
    "    mlflow.log_param(\"model_type\", \"MultinomialNB\")\n",
    "    \n",
    "    # Metrics\n",
    "    mlflow.log_metric(\"test_accuracy\", test_accuracy)\n",
    "    mlflow.log_metric(\"balanced_accuracy\", balanced_accuracy)\n",
    "    mlflow.log_metric(\"f0_5_score\", f0_5_score)\n",
    "    cr = classification_report(y_test, y_test_pred, output_dict=True)\n",
    "    mlflow.log_metric(\"accuracy\", cr.pop(\"accuracy\"))\n",
    "    for class_or_avg, metrics_dict in cr.items():\n",
    "        for metric, value in metrics_dict.items():\n",
    "            mlflow.log_metric(class_or_avg + '_' + metric,value)\n",
    "    \n",
    "    # Figures\n",
    "    mlflow.log_figure(matrix_fig, \"confusion-matrix.png\")\n",
    "    mlflow.log_figure(pr_fig, \"precision-recall-curve.png\")\n",
    "    \n",
    "    # CountVectorizer and MNB\n",
    "    mlflow.sklearn.log_model(pipeline, \"pipeline\",signature=signature)\n",
    "    \n",
    "    # Notebook's name as tag and save as artifact\n",
    "    notebook_name = os.path.basename(globals()['__vsc_ipynb_file__'])   \n",
    "    mlflow.set_tag(\"source_notebook\", f\"{notebook_name}\")\n",
    "    mlflow.log_artifact(f\"{notebook_name}\", artifact_path=\"notebooks\")\n",
    "\n",
    "\n",
    "    print(f\"Pipeline logged to MLflow under run ID {run.info.run_id}\")"
   ]
  },
  {
   "cell_type": "markdown",
   "metadata": {},
   "source": [
    "Conclusions:\n",
    "\n",
    "- Clear overfitting \n",
    "- The model is not predicting at random since the accuracy is higher than the imbalance"
   ]
  },
  {
   "cell_type": "code",
   "execution_count": null,
   "metadata": {},
   "outputs": [],
   "source": []
  }
 ],
 "metadata": {
  "kernelspec": {
   "display_name": "spam-detector-P2ybB3t6-py3.10",
   "language": "python",
   "name": "python3"
  },
  "language_info": {
   "codemirror_mode": {
    "name": "ipython",
    "version": 3
   },
   "file_extension": ".py",
   "mimetype": "text/x-python",
   "name": "python",
   "nbconvert_exporter": "python",
   "pygments_lexer": "ipython3",
   "version": "3.10.12"
  }
 },
 "nbformat": 4,
 "nbformat_minor": 2
}
