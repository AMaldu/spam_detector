{
 "cells": [
  {
   "cell_type": "markdown",
   "metadata": {},
   "source": [
    "The objectiv of this notebook is to run BOW and Naive Bayes as our baseline model to have a reference in our experimentation\n"
   ]
  },
  {
   "cell_type": "markdown",
   "metadata": {},
   "source": [
    "## Libraries"
   ]
  },
  {
   "cell_type": "code",
   "execution_count": 8,
   "metadata": {},
   "outputs": [],
   "source": [
    "import pandas as pd\n",
    "import os\n",
    "from joblib import dump\n",
    "import matplotlib.pyplot as plt\n",
    "from sklearn.feature_extraction.text import CountVectorizer\n",
    "from sklearn.naive_bayes import MultinomialNB\n",
    "from sklearn.metrics import accuracy_score, classification_report, roc_auc_score, roc_curve, log_loss\n",
    "import mlflow\n"
   ]
  },
  {
   "cell_type": "code",
   "execution_count": 9,
   "metadata": {},
   "outputs": [],
   "source": [
    "train = pd.read_csv(\"../data/gold/train.csv\")\n",
    "test = pd.read_csv(\"../data/gold/test.csv\")\n",
    "\n",
    "X_train = train['features']\n",
    "y_train = train['target']  \n",
    "X_test = test['features']\n",
    "y_test = test['target']\n"
   ]
  },
  {
   "cell_type": "code",
   "execution_count": 10,
   "metadata": {},
   "outputs": [
    {
     "data": {
      "text/plain": [
       "[<Experiment: artifact_location='/home/maldu/dscience/projects/spam_detector/notebooks/artifacts_local/1', creation_time=1732894073349, experiment_id='1', last_update_time=1732894073349, lifecycle_stage='active', name='MultinomialNaiveBayes-BaseModel', tags={}>,\n",
       " <Experiment: artifact_location='/home/maldu/dscience/projects/spam_detector/notebooks/artifacts_local/0', creation_time=1732892867190, experiment_id='0', last_update_time=1732892867190, lifecycle_stage='active', name='Default', tags={}>]"
      ]
     },
     "execution_count": 10,
     "metadata": {},
     "output_type": "execute_result"
    }
   ],
   "source": [
    "# on the console\n",
    "# mlflow server --backend-store-uri sqlite:///backend.db --default-artifact-root ./artifacts_local\n",
    "\n",
    "mlflow.set_tracking_uri(\"http://127.0.0.1:5000\")\n",
    "mlflow.search_experiments()"
   ]
  },
  {
   "cell_type": "code",
   "execution_count": 11,
   "metadata": {},
   "outputs": [
    {
     "name": "stdout",
     "output_type": "stream",
     "text": [
      "tracking URI: 'http://127.0.0.1:5000'\n"
     ]
    }
   ],
   "source": [
    "print (f\"tracking URI: '{mlflow.get_tracking_uri()}'\")"
   ]
  },
  {
   "cell_type": "code",
   "execution_count": 12,
   "metadata": {},
   "outputs": [
    {
     "data": {
      "text/plain": [
       "[<Experiment: artifact_location='/home/maldu/dscience/projects/spam_detector/notebooks/artifacts_local/1', creation_time=1732894073349, experiment_id='1', last_update_time=1732894073349, lifecycle_stage='active', name='MultinomialNaiveBayes-BaseModel', tags={}>,\n",
       " <Experiment: artifact_location='/home/maldu/dscience/projects/spam_detector/notebooks/artifacts_local/0', creation_time=1732892867190, experiment_id='0', last_update_time=1732892867190, lifecycle_stage='active', name='Default', tags={}>]"
      ]
     },
     "execution_count": 12,
     "metadata": {},
     "output_type": "execute_result"
    }
   ],
   "source": [
    "mlflow.search_experiments()"
   ]
  },
  {
   "cell_type": "code",
   "execution_count": 13,
   "metadata": {},
   "outputs": [],
   "source": [
    "def train_model(X_train, y_train, X_test, y_test):\n",
    "    mlflow.set_experiment(\"MultinomialNaiveBayes-BaseModel\")\n",
    "        \n",
    "    with mlflow.start_run() as run:\n",
    "        mlflow.log_param(\"data_folder\", \"../data/gold/\")\n",
    "        mlflow.log_param(\"train_file\", \"train.csv\")\n",
    "        mlflow.log_param(\"test_file\", \"test.csv\")\n",
    "        \n",
    "        vectorizer = CountVectorizer(ngram_range=(1, 1), max_features=2000)\n",
    "        X_train_bow = vectorizer.fit_transform(X_train)\n",
    "\n",
    "        X_test_bow = vectorizer.transform(X_test)\n",
    "        \n",
    "        model = MultinomialNB()\n",
    "        model.fit(X_train_bow, y_train)\n",
    "\n",
    "        y_test_pred = model.predict(X_test_bow)\n",
    "        y_test_prob = model.predict_proba(X_test_bow)[:, 1]  \n",
    "        \n",
    "        test_accuracy = accuracy_score(y_test, y_test_pred)\n",
    "        \n",
    "        print(\"Test Accuracy:\", test_accuracy)\n",
    "        print(\"\\nClassification Report (Test):\")\n",
    "        print(classification_report(y_test, y_test_pred))\n",
    "        \n",
    "        roc_auc = roc_auc_score(y_test, y_test_prob)\n",
    "        fpr, tpr, _ = roc_curve(y_test, y_test_prob)\n",
    "        \n",
    "        plt.figure()\n",
    "        plt.plot(fpr, tpr, label=f\"AUC = {roc_auc:.2f}\")\n",
    "        plt.plot([0, 1], [0, 1], linestyle=\"--\", color=\"gray\")\n",
    "        plt.xlabel(\"False Positive Rate\")\n",
    "        plt.ylabel(\"True Positive Rate\")\n",
    "        plt.title(\"ROC Curve\")\n",
    "        plt.legend(loc=\"lower right\")\n",
    "        plt.close()\n",
    "        \n",
    "\n",
    "        mlflow.log_artifact(\"artifacts_local\", \"roc_curve.png\")\n",
    "        \n",
    "        mlflow.log_metric(\"test_accuracy\", test_accuracy)\n",
    "        mlflow.log_metric(\"roc_auc\", roc_auc)\n",
    "        mlflow.log_param(\"vectorizer_type\", \"CountVectorizer\")\n",
    "        mlflow.log_param(\"model_type\", \"MultinomialNB\")\n",
    "        \n",
    "\n",
    "        mlflow.log_artifact(\"artifacts_local\", \"vectorizer.joblib\")\n",
    "        mlflow.log_artifact((\"artifacts_local\", \"naive_bayes_model.joblib\"))\n",
    "        \n",
    "        print(f\"Model and vectorizer logged to MLflow under run ID {run.info.run_id}\")\n"
   ]
  },
  {
   "cell_type": "code",
   "execution_count": 14,
   "metadata": {},
   "outputs": [
    {
     "name": "stdout",
     "output_type": "stream",
     "text": [
      "Test Accuracy: 0.9689922480620154\n",
      "\n",
      "Classification Report (Test):\n",
      "              precision    recall  f1-score   support\n",
      "\n",
      "           0       0.99      0.97      0.98       453\n",
      "           1       0.82      0.95      0.88        63\n",
      "\n",
      "    accuracy                           0.97       516\n",
      "   macro avg       0.91      0.96      0.93       516\n",
      "weighted avg       0.97      0.97      0.97       516\n",
      "\n",
      "🏃 View run powerful-hound-948 at: http://127.0.0.1:5000/#/experiments/1/runs/957c0326ea404d55920347cd11655781\n",
      "🧪 View experiment at: http://127.0.0.1:5000/#/experiments/1\n"
     ]
    },
    {
     "ename": "Error",
     "evalue": "[('artifacts_local/1/957c0326ea404d55920347cd11655781/artifacts/roc_curve.png/artifacts_local/1/957c0326ea404d55920347cd11655781/artifacts/roc_curve.png/artifacts_local/1/957c0326ea404d55920347cd11655781/artifacts/roc_curve.png/artifacts_local/1/957c0326ea404d55920347cd11655781/artifacts/roc_curve.png/artifacts_local/1/957c0326ea404d55920347cd11655781/artifacts/roc_curve.png/artifacts_local/1/957c0326ea404d55920347cd11655781/artifacts/roc_curve.png/artifacts_local/1/957c0326ea404d55920347cd11655781/artifacts/roc_curve.png/artifacts_local/1/957c0326ea404d55920347cd11655781/artifacts/roc_curve.png/artifacts_local/1/957c0326ea404d55920347cd11655781/artifacts/roc_curve.png/artifacts_local/1/957c0326ea404d55920347cd11655781/artifacts/roc_curve.png/artifacts_local/1/957c0326ea404d55920347cd11655781/artifacts/roc_curve.png/artifacts_local/1/957c0326ea404d55920347cd11655781/artifacts/roc_curve.png/artifacts_local/1/957c0326ea404d55920347cd11655781/artifacts/roc_curve.png/artifacts_local/1/957c0326ea404d55920347cd11655781/artifacts/roc_curve.png/artifacts_local/1/957c0326ea404d55920347cd11655781/artifacts/roc_curve.png/artifacts_local/1/957c0326ea404d55920347cd11655781/artifacts/roc_curve.png/artifacts_local/1/957c0326ea404d55920347cd11655781/artifacts/roc_curve.png/artifacts_local/1/957c0326ea404d55920347cd11655781/artifacts/roc_curve.png/artifacts_local/1/957c0326ea404d55920347cd11655781/artifacts/roc_curve.png/artifacts_local/1/957c0326ea404d55920347cd11655781/artifacts/roc_curve.png/artifacts_local/1/957c0326ea404d55920347cd11655781/artifacts/roc_curve.png/artifacts_local/1/957c0326ea404d55920347cd11655781/artifacts/roc_curve.png/artifacts_local/1/957c0326ea404d55920347cd11655781/artifacts/roc_curve.png/artifacts_local/1/957c0326ea404d55920347cd11655781/artifacts/roc_curve.png/artifacts_local/1/957c0326ea404d55920347cd11655781/artifacts/roc_curve.png/artifacts_local/1/957c0326ea404d55920347cd11655781/artifacts/roc_curve.png/artifacts_local/1/957c0326ea404d55920347cd11655781/artifacts/roc_curve.png/artifacts_local/1/957c0326ea404d55920347cd11655781/artifacts/roc_curve.png/artifacts_local/1/957c0326ea404d55920347cd11655781/artifacts/roc_curve.png/artifacts_local/1/957c0326ea404d55920347cd11655781/artifacts/roc_curve.png/artifacts_local/1/957c0326ea404d55920347cd11655781/artifacts/roc_curve.png/artifacts_local/1/957c0326ea404d55920347cd11655781/artifacts/roc_curve.png/artifacts_local/1/957c0326ea404d55920347cd11655781/artifacts/roc_curve.png/artifacts_local/1/957c0326ea404d55920347cd11655781/artifacts/roc_curve.png/artifacts_local/1/957c0326ea404d55920347cd11655781/artifacts/roc_curve.png/artifacts_local/1/957c0326ea404d55920347cd11655781/artifacts/roc_curve.png/artifacts_local/1/957c0326ea404d55920347cd11655781/artifacts/roc_curve.png/artifacts_local/1/957c0326ea404d55920347cd11655781/artifacts/roc_curve.png/artifacts_local/1/957c0326ea404d55920347cd11655781/artifacts/roc_curve.png/artifacts_local/1/957c0326ea404d55920347cd11655781/artifacts/roc_curve.png/artifacts_local/1/957c0326ea404d55920347cd11655781/artifacts/roc_curve.png/artifacts_local/1/957c0326ea404d55920347cd11655781/artifacts/roc_curve.png/artifacts_local/1/957c0326ea404d55920347cd11655781/artifacts/roc_curve.png/artifacts_local/1/957c0326ea404d55920347cd11655781/artifacts/roc_curve.png/artifacts_local/1/957c0326ea404d55920347cd11655781/artifacts/roc_curve.png/artifacts_local/1/957c0326ea404d55920347cd11655781/artifacts/roc_curve.png/artifacts_local/1/957c0326ea404d55920347cd11655781/artifacts/roc_curve.png/artifacts_local/1/957c0326ea404d55920347cd11655781/artifacts/roc_curve.png/artifacts_local/1/957c0326ea404d55920347cd11655781/artifacts/roc_curve.png/artifacts_local/1/957c0326ea404d55920347cd11655781/artifacts/roc_curve.png/artifacts_local/1/957c0326ea404d55920347cd11655781/artifacts/roc_curve.png/artifacts_local/1/957c0326ea404d55920347cd11655781/artifacts/roc_curve.png/artifacts_local/1/957c0326ea404d55920347cd11655781/artifacts/roc_curve.png', '/home/maldu/dscience/projects/spam_detector/notebooks/artifacts_local/1/957c0326ea404d55920347cd11655781/artifacts/roc_curve.png/artifacts_local/1/957c0326ea404d55920347cd11655781/artifacts/roc_curve.png/artifacts_local/1/957c0326ea404d55920347cd11655781/artifacts/roc_curve.png/artifacts_local/1/957c0326ea404d55920347cd11655781/artifacts/roc_curve.png/artifacts_local/1/957c0326ea404d55920347cd11655781/artifacts/roc_curve.png/artifacts_local/1/957c0326ea404d55920347cd11655781/artifacts/roc_curve.png/artifacts_local/1/957c0326ea404d55920347cd11655781/artifacts/roc_curve.png/artifacts_local/1/957c0326ea404d55920347cd11655781/artifacts/roc_curve.png/artifacts_local/1/957c0326ea404d55920347cd11655781/artifacts/roc_curve.png/artifacts_local/1/957c0326ea404d55920347cd11655781/artifacts/roc_curve.png/artifacts_local/1/957c0326ea404d55920347cd11655781/artifacts/roc_curve.png/artifacts_local/1/957c0326ea404d55920347cd11655781/artifacts/roc_curve.png/artifacts_local/1/957c0326ea404d55920347cd11655781/artifacts/roc_curve.png/artifacts_local/1/957c0326ea404d55920347cd11655781/artifacts/roc_curve.png/artifacts_local/1/957c0326ea404d55920347cd11655781/artifacts/roc_curve.png/artifacts_local/1/957c0326ea404d55920347cd11655781/artifacts/roc_curve.png/artifacts_local/1/957c0326ea404d55920347cd11655781/artifacts/roc_curve.png/artifacts_local/1/957c0326ea404d55920347cd11655781/artifacts/roc_curve.png/artifacts_local/1/957c0326ea404d55920347cd11655781/artifacts/roc_curve.png/artifacts_local/1/957c0326ea404d55920347cd11655781/artifacts/roc_curve.png/artifacts_local/1/957c0326ea404d55920347cd11655781/artifacts/roc_curve.png/artifacts_local/1/957c0326ea404d55920347cd11655781/artifacts/roc_curve.png/artifacts_local/1/957c0326ea404d55920347cd11655781/artifacts/roc_curve.png/artifacts_local/1/957c0326ea404d55920347cd11655781/artifacts/roc_curve.png/artifacts_local/1/957c0326ea404d55920347cd11655781/artifacts/roc_curve.png/artifacts_local/1/957c0326ea404d55920347cd11655781/artifacts/roc_curve.png/artifacts_local/1/957c0326ea404d55920347cd11655781/artifacts/roc_curve.png/artifacts_local/1/957c0326ea404d55920347cd11655781/artifacts/roc_curve.png/artifacts_local/1/957c0326ea404d55920347cd11655781/artifacts/roc_curve.png/artifacts_local/1/957c0326ea404d55920347cd11655781/artifacts/roc_curve.png/artifacts_local/1/957c0326ea404d55920347cd11655781/artifacts/roc_curve.png/artifacts_local/1/957c0326ea404d55920347cd11655781/artifacts/roc_curve.png/artifacts_local/1/957c0326ea404d55920347cd11655781/artifacts/roc_curve.png/artifacts_local/1/957c0326ea404d55920347cd11655781/artifacts/roc_curve.png/artifacts_local/1/957c0326ea404d55920347cd11655781/artifacts/roc_curve.png/artifacts_local/1/957c0326ea404d55920347cd11655781/artifacts/roc_curve.png/artifacts_local/1/957c0326ea404d55920347cd11655781/artifacts/roc_curve.png/artifacts_local/1/957c0326ea404d55920347cd11655781/artifacts/roc_curve.png/artifacts_local/1/957c0326ea404d55920347cd11655781/artifacts/roc_curve.png/artifacts_local/1/957c0326ea404d55920347cd11655781/artifacts/roc_curve.png/artifacts_local/1/957c0326ea404d55920347cd11655781/artifacts/roc_curve.png/artifacts_local/1/957c0326ea404d55920347cd11655781/artifacts/roc_curve.png/artifacts_local/1/957c0326ea404d55920347cd11655781/artifacts/roc_curve.png/artifacts_local/1/957c0326ea404d55920347cd11655781/artifacts/roc_curve.png/artifacts_local/1/957c0326ea404d55920347cd11655781/artifacts/roc_curve.png/artifacts_local/1/957c0326ea404d55920347cd11655781/artifacts/roc_curve.png/artifacts_local/1/957c0326ea404d55920347cd11655781/artifacts/roc_curve.png/artifacts_local/1/957c0326ea404d55920347cd11655781/artifacts/roc_curve.png/artifacts_local/1/957c0326ea404d55920347cd11655781/artifacts/roc_curve.png/artifacts_local/1/957c0326ea404d55920347cd11655781/artifacts/roc_curve.png/artifacts_local/1/957c0326ea404d55920347cd11655781/artifacts/roc_curve.png/artifacts_local/1/957c0326ea404d55920347cd11655781/artifacts/roc_curve.png/artifacts_local/1/957c0326ea404d55920347cd11655781/artifacts/roc_curve.png/artifacts_local/1/957c0326ea404d55920347cd11655781/artifacts/roc_curve.png', \"[Errno 36] File name too long: '/home/maldu/dscience/projects/spam_detector/notebooks/artifacts_local/1/957c0326ea404d55920347cd11655781/artifacts/roc_curve.png/artifacts_local/1/957c0326ea404d55920347cd11655781/artifacts/roc_curve.png/artifacts_local/1/957c0326ea404d55920347cd11655781/artifacts/roc_curve.png/artifacts_local/1/957c0326ea404d55920347cd11655781/artifacts/roc_curve.png/artifacts_local/1/957c0326ea404d55920347cd11655781/artifacts/roc_curve.png/artifacts_local/1/957c0326ea404d55920347cd11655781/artifacts/roc_curve.png/artifacts_local/1/957c0326ea404d55920347cd11655781/artifacts/roc_curve.png/artifacts_local/1/957c0326ea404d55920347cd11655781/artifacts/roc_curve.png/artifacts_local/1/957c0326ea404d55920347cd11655781/artifacts/roc_curve.png/artifacts_local/1/957c0326ea404d55920347cd11655781/artifacts/roc_curve.png/artifacts_local/1/957c0326ea404d55920347cd11655781/artifacts/roc_curve.png/artifacts_local/1/957c0326ea404d55920347cd11655781/artifacts/roc_curve.png/artifacts_local/1/957c0326ea404d55920347cd11655781/artifacts/roc_curve.png/artifacts_local/1/957c0326ea404d55920347cd11655781/artifacts/roc_curve.png/artifacts_local/1/957c0326ea404d55920347cd11655781/artifacts/roc_curve.png/artifacts_local/1/957c0326ea404d55920347cd11655781/artifacts/roc_curve.png/artifacts_local/1/957c0326ea404d55920347cd11655781/artifacts/roc_curve.png/artifacts_local/1/957c0326ea404d55920347cd11655781/artifacts/roc_curve.png/artifacts_local/1/957c0326ea404d55920347cd11655781/artifacts/roc_curve.png/artifacts_local/1/957c0326ea404d55920347cd11655781/artifacts/roc_curve.png/artifacts_local/1/957c0326ea404d55920347cd11655781/artifacts/roc_curve.png/artifacts_local/1/957c0326ea404d55920347cd11655781/artifacts/roc_curve.png/artifacts_local/1/957c0326ea404d55920347cd11655781/artifacts/roc_curve.png/artifacts_local/1/957c0326ea404d55920347cd11655781/artifacts/roc_curve.png/artifacts_local/1/957c0326ea404d55920347cd11655781/artifacts/roc_curve.png/artifacts_local/1/957c0326ea404d55920347cd11655781/artifacts/roc_curve.png/artifacts_local/1/957c0326ea404d55920347cd11655781/artifacts/roc_curve.png/artifacts_local/1/957c0326ea404d55920347cd11655781/artifacts/roc_curve.png/artifacts_local/1/957c0326ea404d55920347cd11655781/artifacts/roc_curve.png/artifacts_local/1/957c0326ea404d55920347cd11655781/artifacts/roc_curve.png/artifacts_local/1/957c0326ea404d55920347cd11655781/artifacts/roc_curve.png/artifacts_local/1/957c0326ea404d55920347cd11655781/artifacts/roc_curve.png/artifacts_local/1/957c0326ea404d55920347cd11655781/artifacts/roc_curve.png/artifacts_local/1/957c0326ea404d55920347cd11655781/artifacts/roc_curve.png/artifacts_local/1/957c0326ea404d55920347cd11655781/artifacts/roc_curve.png/artifacts_local/1/957c0326ea404d55920347cd11655781/artifacts/roc_curve.png/artifacts_local/1/957c0326ea404d55920347cd11655781/artifacts/roc_curve.png/artifacts_local/1/957c0326ea404d55920347cd11655781/artifacts/roc_curve.png/artifacts_local/1/957c0326ea404d55920347cd11655781/artifacts/roc_curve.png/artifacts_local/1/957c0326ea404d55920347cd11655781/artifacts/roc_curve.png/artifacts_local/1/957c0326ea404d55920347cd11655781/artifacts/roc_curve.png/artifacts_local/1/957c0326ea404d55920347cd11655781/artifacts/roc_curve.png/artifacts_local/1/957c0326ea404d55920347cd11655781/artifacts/roc_curve.png/artifacts_local/1/957c0326ea404d55920347cd11655781/artifacts/roc_curve.png/artifacts_local/1/957c0326ea404d55920347cd11655781/artifacts/roc_curve.png/artifacts_local/1/957c0326ea404d55920347cd11655781/artifacts/roc_curve.png/artifacts_local/1/957c0326ea404d55920347cd11655781/artifacts/roc_curve.png/artifacts_local/1/957c0326ea404d55920347cd11655781/artifacts/roc_curve.png/artifacts_local/1/957c0326ea404d55920347cd11655781/artifacts/roc_curve.png/artifacts_local/1/957c0326ea404d55920347cd11655781/artifacts/roc_curve.png/artifacts_local/1/957c0326ea404d55920347cd11655781/artifacts/roc_curve.png/artifacts_local/1/957c0326ea404d55920347cd11655781/artifacts/roc_curve.png/artifacts_local/1/957c0326ea404d55920347cd11655781/artifacts/roc_curve.png/artifacts_local/1/957c0326ea404d55920347cd11655781/artifacts/roc_curve.png'\")]",
     "output_type": "error",
     "traceback": [
      "\u001b[0;31m---------------------------------------------------------------------------\u001b[0m",
      "\u001b[0;31mError\u001b[0m                                     Traceback (most recent call last)",
      "Cell \u001b[0;32mIn[14], line 1\u001b[0m\n\u001b[0;32m----> 1\u001b[0m \u001b[43mtrain_model\u001b[49m\u001b[43m(\u001b[49m\u001b[43mX_train\u001b[49m\u001b[43m,\u001b[49m\u001b[43m \u001b[49m\u001b[43my_train\u001b[49m\u001b[43m,\u001b[49m\u001b[43m \u001b[49m\u001b[43mX_test\u001b[49m\u001b[43m,\u001b[49m\u001b[43m \u001b[49m\u001b[43my_test\u001b[49m\u001b[43m)\u001b[49m\n",
      "Cell \u001b[0;32mIn[13], line 39\u001b[0m, in \u001b[0;36mtrain_model\u001b[0;34m(X_train, y_train, X_test, y_test)\u001b[0m\n\u001b[1;32m     35\u001b[0m plt\u001b[38;5;241m.\u001b[39mlegend(loc\u001b[38;5;241m=\u001b[39m\u001b[38;5;124m\"\u001b[39m\u001b[38;5;124mlower right\u001b[39m\u001b[38;5;124m\"\u001b[39m)\n\u001b[1;32m     36\u001b[0m plt\u001b[38;5;241m.\u001b[39mclose()\n\u001b[0;32m---> 39\u001b[0m \u001b[43mmlflow\u001b[49m\u001b[38;5;241;43m.\u001b[39;49m\u001b[43mlog_artifact\u001b[49m\u001b[43m(\u001b[49m\u001b[38;5;124;43m\"\u001b[39;49m\u001b[38;5;124;43martifacts_local\u001b[39;49m\u001b[38;5;124;43m\"\u001b[39;49m\u001b[43m,\u001b[49m\u001b[43m \u001b[49m\u001b[38;5;124;43m\"\u001b[39;49m\u001b[38;5;124;43mroc_curve.png\u001b[39;49m\u001b[38;5;124;43m\"\u001b[39;49m\u001b[43m)\u001b[49m\n\u001b[1;32m     41\u001b[0m mlflow\u001b[38;5;241m.\u001b[39mlog_metric(\u001b[38;5;124m\"\u001b[39m\u001b[38;5;124mtest_accuracy\u001b[39m\u001b[38;5;124m\"\u001b[39m, test_accuracy)\n\u001b[1;32m     42\u001b[0m mlflow\u001b[38;5;241m.\u001b[39mlog_metric(\u001b[38;5;124m\"\u001b[39m\u001b[38;5;124mroc_auc\u001b[39m\u001b[38;5;124m\"\u001b[39m, roc_auc)\n",
      "File \u001b[0;32m~/.cache/pypoetry/virtualenvs/spam-detector-P2ybB3t6-py3.10/lib/python3.10/site-packages/mlflow/tracking/fluent.py:1172\u001b[0m, in \u001b[0;36mlog_artifact\u001b[0;34m(local_path, artifact_path, run_id)\u001b[0m\n\u001b[1;32m   1142\u001b[0m \u001b[38;5;250m\u001b[39m\u001b[38;5;124;03m\"\"\"\u001b[39;00m\n\u001b[1;32m   1143\u001b[0m \u001b[38;5;124;03mLog a local file or directory as an artifact of the currently active run. If no run is\u001b[39;00m\n\u001b[1;32m   1144\u001b[0m \u001b[38;5;124;03mactive, this method will create a new active run.\u001b[39;00m\n\u001b[0;32m   (...)\u001b[0m\n\u001b[1;32m   1169\u001b[0m \u001b[38;5;124;03m            mlflow.log_artifact(path)\u001b[39;00m\n\u001b[1;32m   1170\u001b[0m \u001b[38;5;124;03m\"\"\"\u001b[39;00m\n\u001b[1;32m   1171\u001b[0m run_id \u001b[38;5;241m=\u001b[39m run_id \u001b[38;5;129;01mor\u001b[39;00m _get_or_start_run()\u001b[38;5;241m.\u001b[39minfo\u001b[38;5;241m.\u001b[39mrun_id\n\u001b[0;32m-> 1172\u001b[0m \u001b[43mMlflowClient\u001b[49m\u001b[43m(\u001b[49m\u001b[43m)\u001b[49m\u001b[38;5;241;43m.\u001b[39;49m\u001b[43mlog_artifact\u001b[49m\u001b[43m(\u001b[49m\u001b[43mrun_id\u001b[49m\u001b[43m,\u001b[49m\u001b[43m \u001b[49m\u001b[43mlocal_path\u001b[49m\u001b[43m,\u001b[49m\u001b[43m \u001b[49m\u001b[43martifact_path\u001b[49m\u001b[43m)\u001b[49m\n",
      "File \u001b[0;32m~/.cache/pypoetry/virtualenvs/spam-detector-P2ybB3t6-py3.10/lib/python3.10/site-packages/mlflow/tracking/client.py:1928\u001b[0m, in \u001b[0;36mMlflowClient.log_artifact\u001b[0;34m(self, run_id, local_path, artifact_path)\u001b[0m\n\u001b[1;32m   1924\u001b[0m \u001b[38;5;28;01mif\u001b[39;00m run_id\u001b[38;5;241m.\u001b[39mstartswith(TRACE_REQUEST_ID_PREFIX):\n\u001b[1;32m   1925\u001b[0m     \u001b[38;5;28;01mraise\u001b[39;00m MlflowException(\n\u001b[1;32m   1926\u001b[0m         \u001b[38;5;124mf\u001b[39m\u001b[38;5;124m\"\u001b[39m\u001b[38;5;124mInvalid run id: \u001b[39m\u001b[38;5;132;01m{\u001b[39;00mrun_id\u001b[38;5;132;01m}\u001b[39;00m\u001b[38;5;124m. `log_artifact` run id must map to a valid run.\u001b[39m\u001b[38;5;124m\"\u001b[39m\n\u001b[1;32m   1927\u001b[0m     )\n\u001b[0;32m-> 1928\u001b[0m \u001b[38;5;28;43mself\u001b[39;49m\u001b[38;5;241;43m.\u001b[39;49m\u001b[43m_tracking_client\u001b[49m\u001b[38;5;241;43m.\u001b[39;49m\u001b[43mlog_artifact\u001b[49m\u001b[43m(\u001b[49m\u001b[43mrun_id\u001b[49m\u001b[43m,\u001b[49m\u001b[43m \u001b[49m\u001b[43mlocal_path\u001b[49m\u001b[43m,\u001b[49m\u001b[43m \u001b[49m\u001b[43martifact_path\u001b[49m\u001b[43m)\u001b[49m\n",
      "File \u001b[0;32m~/.cache/pypoetry/virtualenvs/spam-detector-P2ybB3t6-py3.10/lib/python3.10/site-packages/mlflow/tracking/_tracking_service/client.py:840\u001b[0m, in \u001b[0;36mTrackingServiceClient.log_artifact\u001b[0;34m(self, run_id, local_path, artifact_path)\u001b[0m\n\u001b[1;32m    836\u001b[0m     dir_name \u001b[38;5;241m=\u001b[39m os\u001b[38;5;241m.\u001b[39mpath\u001b[38;5;241m.\u001b[39mbasename(os\u001b[38;5;241m.\u001b[39mpath\u001b[38;5;241m.\u001b[39mnormpath(local_path))\n\u001b[1;32m    837\u001b[0m     path_name \u001b[38;5;241m=\u001b[39m (\n\u001b[1;32m    838\u001b[0m         os\u001b[38;5;241m.\u001b[39mpath\u001b[38;5;241m.\u001b[39mjoin(artifact_path, dir_name) \u001b[38;5;28;01mif\u001b[39;00m artifact_path \u001b[38;5;129;01mis\u001b[39;00m \u001b[38;5;129;01mnot\u001b[39;00m \u001b[38;5;28;01mNone\u001b[39;00m \u001b[38;5;28;01melse\u001b[39;00m dir_name\n\u001b[1;32m    839\u001b[0m     )\n\u001b[0;32m--> 840\u001b[0m     \u001b[43martifact_repo\u001b[49m\u001b[38;5;241;43m.\u001b[39;49m\u001b[43mlog_artifacts\u001b[49m\u001b[43m(\u001b[49m\u001b[43mlocal_path\u001b[49m\u001b[43m,\u001b[49m\u001b[43m \u001b[49m\u001b[43mpath_name\u001b[49m\u001b[43m)\u001b[49m\n\u001b[1;32m    841\u001b[0m \u001b[38;5;28;01melse\u001b[39;00m:\n\u001b[1;32m    842\u001b[0m     artifact_repo\u001b[38;5;241m.\u001b[39mlog_artifact(local_path, artifact_path)\n",
      "File \u001b[0;32m~/.cache/pypoetry/virtualenvs/spam-detector-P2ybB3t6-py3.10/lib/python3.10/site-packages/mlflow/store/artifact/local_artifact_repo.py:67\u001b[0m, in \u001b[0;36mLocalArtifactRepository.log_artifacts\u001b[0;34m(self, local_dir, artifact_path)\u001b[0m\n\u001b[1;32m     65\u001b[0m \u001b[38;5;28;01mif\u001b[39;00m \u001b[38;5;129;01mnot\u001b[39;00m os\u001b[38;5;241m.\u001b[39mpath\u001b[38;5;241m.\u001b[39mexists(artifact_dir):\n\u001b[1;32m     66\u001b[0m     mkdir(artifact_dir)\n\u001b[0;32m---> 67\u001b[0m \u001b[43mshutil\u001b[49m\u001b[38;5;241;43m.\u001b[39;49m\u001b[43mcopytree\u001b[49m\u001b[43m(\u001b[49m\u001b[43msrc\u001b[49m\u001b[38;5;241;43m=\u001b[39;49m\u001b[43mlocal_dir\u001b[49m\u001b[43m,\u001b[49m\u001b[43m \u001b[49m\u001b[43mdst\u001b[49m\u001b[38;5;241;43m=\u001b[39;49m\u001b[43martifact_dir\u001b[49m\u001b[43m,\u001b[49m\u001b[43m \u001b[49m\u001b[43mdirs_exist_ok\u001b[49m\u001b[38;5;241;43m=\u001b[39;49m\u001b[38;5;28;43;01mTrue\u001b[39;49;00m\u001b[43m)\u001b[49m\n",
      "File \u001b[0;32m/usr/lib/python3.10/shutil.py:559\u001b[0m, in \u001b[0;36mcopytree\u001b[0;34m(src, dst, symlinks, ignore, copy_function, ignore_dangling_symlinks, dirs_exist_ok)\u001b[0m\n\u001b[1;32m    557\u001b[0m \u001b[38;5;28;01mwith\u001b[39;00m os\u001b[38;5;241m.\u001b[39mscandir(src) \u001b[38;5;28;01mas\u001b[39;00m itr:\n\u001b[1;32m    558\u001b[0m     entries \u001b[38;5;241m=\u001b[39m \u001b[38;5;28mlist\u001b[39m(itr)\n\u001b[0;32m--> 559\u001b[0m \u001b[38;5;28;01mreturn\u001b[39;00m \u001b[43m_copytree\u001b[49m\u001b[43m(\u001b[49m\u001b[43mentries\u001b[49m\u001b[38;5;241;43m=\u001b[39;49m\u001b[43mentries\u001b[49m\u001b[43m,\u001b[49m\u001b[43m \u001b[49m\u001b[43msrc\u001b[49m\u001b[38;5;241;43m=\u001b[39;49m\u001b[43msrc\u001b[49m\u001b[43m,\u001b[49m\u001b[43m \u001b[49m\u001b[43mdst\u001b[49m\u001b[38;5;241;43m=\u001b[39;49m\u001b[43mdst\u001b[49m\u001b[43m,\u001b[49m\u001b[43m \u001b[49m\u001b[43msymlinks\u001b[49m\u001b[38;5;241;43m=\u001b[39;49m\u001b[43msymlinks\u001b[49m\u001b[43m,\u001b[49m\n\u001b[1;32m    560\u001b[0m \u001b[43m                 \u001b[49m\u001b[43mignore\u001b[49m\u001b[38;5;241;43m=\u001b[39;49m\u001b[43mignore\u001b[49m\u001b[43m,\u001b[49m\u001b[43m \u001b[49m\u001b[43mcopy_function\u001b[49m\u001b[38;5;241;43m=\u001b[39;49m\u001b[43mcopy_function\u001b[49m\u001b[43m,\u001b[49m\n\u001b[1;32m    561\u001b[0m \u001b[43m                 \u001b[49m\u001b[43mignore_dangling_symlinks\u001b[49m\u001b[38;5;241;43m=\u001b[39;49m\u001b[43mignore_dangling_symlinks\u001b[49m\u001b[43m,\u001b[49m\n\u001b[1;32m    562\u001b[0m \u001b[43m                 \u001b[49m\u001b[43mdirs_exist_ok\u001b[49m\u001b[38;5;241;43m=\u001b[39;49m\u001b[43mdirs_exist_ok\u001b[49m\u001b[43m)\u001b[49m\n",
      "File \u001b[0;32m/usr/lib/python3.10/shutil.py:513\u001b[0m, in \u001b[0;36m_copytree\u001b[0;34m(entries, src, dst, symlinks, ignore, copy_function, ignore_dangling_symlinks, dirs_exist_ok)\u001b[0m\n\u001b[1;32m    511\u001b[0m         errors\u001b[38;5;241m.\u001b[39mappend((src, dst, \u001b[38;5;28mstr\u001b[39m(why)))\n\u001b[1;32m    512\u001b[0m \u001b[38;5;28;01mif\u001b[39;00m errors:\n\u001b[0;32m--> 513\u001b[0m     \u001b[38;5;28;01mraise\u001b[39;00m Error(errors)\n\u001b[1;32m    514\u001b[0m \u001b[38;5;28;01mreturn\u001b[39;00m dst\n",
      "\u001b[0;31mError\u001b[0m: [('artifacts_local/1/957c0326ea404d55920347cd11655781/artifacts/roc_curve.png/artifacts_local/1/957c0326ea404d55920347cd11655781/artifacts/roc_curve.png/artifacts_local/1/957c0326ea404d55920347cd11655781/artifacts/roc_curve.png/artifacts_local/1/957c0326ea404d55920347cd11655781/artifacts/roc_curve.png/artifacts_local/1/957c0326ea404d55920347cd11655781/artifacts/roc_curve.png/artifacts_local/1/957c0326ea404d55920347cd11655781/artifacts/roc_curve.png/artifacts_local/1/957c0326ea404d55920347cd11655781/artifacts/roc_curve.png/artifacts_local/1/957c0326ea404d55920347cd11655781/artifacts/roc_curve.png/artifacts_local/1/957c0326ea404d55920347cd11655781/artifacts/roc_curve.png/artifacts_local/1/957c0326ea404d55920347cd11655781/artifacts/roc_curve.png/artifacts_local/1/957c0326ea404d55920347cd11655781/artifacts/roc_curve.png/artifacts_local/1/957c0326ea404d55920347cd11655781/artifacts/roc_curve.png/artifacts_local/1/957c0326ea404d55920347cd11655781/artifacts/roc_curve.png/artifacts_local/1/957c0326ea404d55920347cd11655781/artifacts/roc_curve.png/artifacts_local/1/957c0326ea404d55920347cd11655781/artifacts/roc_curve.png/artifacts_local/1/957c0326ea404d55920347cd11655781/artifacts/roc_curve.png/artifacts_local/1/957c0326ea404d55920347cd11655781/artifacts/roc_curve.png/artifacts_local/1/957c0326ea404d55920347cd11655781/artifacts/roc_curve.png/artifacts_local/1/957c0326ea404d55920347cd11655781/artifacts/roc_curve.png/artifacts_local/1/957c0326ea404d55920347cd11655781/artifacts/roc_curve.png/artifacts_local/1/957c0326ea404d55920347cd11655781/artifacts/roc_curve.png/artifacts_local/1/957c0326ea404d55920347cd11655781/artifacts/roc_curve.png/artifacts_local/1/957c0326ea404d55920347cd11655781/artifacts/roc_curve.png/artifacts_local/1/957c0326ea404d55920347cd11655781/artifacts/roc_curve.png/artifacts_local/1/957c0326ea404d55920347cd11655781/artifacts/roc_curve.png/artifacts_local/1/957c0326ea404d55920347cd11655781/artifacts/roc_curve.png/artifacts_local/1/957c0326ea404d55920347cd11655781/artifacts/roc_curve.png/artifacts_local/1/957c0326ea404d55920347cd11655781/artifacts/roc_curve.png/artifacts_local/1/957c0326ea404d55920347cd11655781/artifacts/roc_curve.png/artifacts_local/1/957c0326ea404d55920347cd11655781/artifacts/roc_curve.png/artifacts_local/1/957c0326ea404d55920347cd11655781/artifacts/roc_curve.png/artifacts_local/1/957c0326ea404d55920347cd11655781/artifacts/roc_curve.png/artifacts_local/1/957c0326ea404d55920347cd11655781/artifacts/roc_curve.png/artifacts_local/1/957c0326ea404d55920347cd11655781/artifacts/roc_curve.png/artifacts_local/1/957c0326ea404d55920347cd11655781/artifacts/roc_curve.png/artifacts_local/1/957c0326ea404d55920347cd11655781/artifacts/roc_curve.png/artifacts_local/1/957c0326ea404d55920347cd11655781/artifacts/roc_curve.png/artifacts_local/1/957c0326ea404d55920347cd11655781/artifacts/roc_curve.png/artifacts_local/1/957c0326ea404d55920347cd11655781/artifacts/roc_curve.png/artifacts_local/1/957c0326ea404d55920347cd11655781/artifacts/roc_curve.png/artifacts_local/1/957c0326ea404d55920347cd11655781/artifacts/roc_curve.png/artifacts_local/1/957c0326ea404d55920347cd11655781/artifacts/roc_curve.png/artifacts_local/1/957c0326ea404d55920347cd11655781/artifacts/roc_curve.png/artifacts_local/1/957c0326ea404d55920347cd11655781/artifacts/roc_curve.png/artifacts_local/1/957c0326ea404d55920347cd11655781/artifacts/roc_curve.png/artifacts_local/1/957c0326ea404d55920347cd11655781/artifacts/roc_curve.png/artifacts_local/1/957c0326ea404d55920347cd11655781/artifacts/roc_curve.png/artifacts_local/1/957c0326ea404d55920347cd11655781/artifacts/roc_curve.png/artifacts_local/1/957c0326ea404d55920347cd11655781/artifacts/roc_curve.png/artifacts_local/1/957c0326ea404d55920347cd11655781/artifacts/roc_curve.png/artifacts_local/1/957c0326ea404d55920347cd11655781/artifacts/roc_curve.png/artifacts_local/1/957c0326ea404d55920347cd11655781/artifacts/roc_curve.png/artifacts_local/1/957c0326ea404d55920347cd11655781/artifacts/roc_curve.png', '/home/maldu/dscience/projects/spam_detector/notebooks/artifacts_local/1/957c0326ea404d55920347cd11655781/artifacts/roc_curve.png/artifacts_local/1/957c0326ea404d55920347cd11655781/artifacts/roc_curve.png/artifacts_local/1/957c0326ea404d55920347cd11655781/artifacts/roc_curve.png/artifacts_local/1/957c0326ea404d55920347cd11655781/artifacts/roc_curve.png/artifacts_local/1/957c0326ea404d55920347cd11655781/artifacts/roc_curve.png/artifacts_local/1/957c0326ea404d55920347cd11655781/artifacts/roc_curve.png/artifacts_local/1/957c0326ea404d55920347cd11655781/artifacts/roc_curve.png/artifacts_local/1/957c0326ea404d55920347cd11655781/artifacts/roc_curve.png/artifacts_local/1/957c0326ea404d55920347cd11655781/artifacts/roc_curve.png/artifacts_local/1/957c0326ea404d55920347cd11655781/artifacts/roc_curve.png/artifacts_local/1/957c0326ea404d55920347cd11655781/artifacts/roc_curve.png/artifacts_local/1/957c0326ea404d55920347cd11655781/artifacts/roc_curve.png/artifacts_local/1/957c0326ea404d55920347cd11655781/artifacts/roc_curve.png/artifacts_local/1/957c0326ea404d55920347cd11655781/artifacts/roc_curve.png/artifacts_local/1/957c0326ea404d55920347cd11655781/artifacts/roc_curve.png/artifacts_local/1/957c0326ea404d55920347cd11655781/artifacts/roc_curve.png/artifacts_local/1/957c0326ea404d55920347cd11655781/artifacts/roc_curve.png/artifacts_local/1/957c0326ea404d55920347cd11655781/artifacts/roc_curve.png/artifacts_local/1/957c0326ea404d55920347cd11655781/artifacts/roc_curve.png/artifacts_local/1/957c0326ea404d55920347cd11655781/artifacts/roc_curve.png/artifacts_local/1/957c0326ea404d55920347cd11655781/artifacts/roc_curve.png/artifacts_local/1/957c0326ea404d55920347cd11655781/artifacts/roc_curve.png/artifacts_local/1/957c0326ea404d55920347cd11655781/artifacts/roc_curve.png/artifacts_local/1/957c0326ea404d55920347cd11655781/artifacts/roc_curve.png/artifacts_local/1/957c0326ea404d55920347cd11655781/artifacts/roc_curve.png/artifacts_local/1/957c0326ea404d55920347cd11655781/artifacts/roc_curve.png/artifacts_local/1/957c0326ea404d55920347cd11655781/artifacts/roc_curve.png/artifacts_local/1/957c0326ea404d55920347cd11655781/artifacts/roc_curve.png/artifacts_local/1/957c0326ea404d55920347cd11655781/artifacts/roc_curve.png/artifacts_local/1/957c0326ea404d55920347cd11655781/artifacts/roc_curve.png/artifacts_local/1/957c0326ea404d55920347cd11655781/artifacts/roc_curve.png/artifacts_local/1/957c0326ea404d55920347cd11655781/artifacts/roc_curve.png/artifacts_local/1/957c0326ea404d55920347cd11655781/artifacts/roc_curve.png/artifacts_local/1/957c0326ea404d55920347cd11655781/artifacts/roc_curve.png/artifacts_local/1/957c0326ea404d55920347cd11655781/artifacts/roc_curve.png/artifacts_local/1/957c0326ea404d55920347cd11655781/artifacts/roc_curve.png/artifacts_local/1/957c0326ea404d55920347cd11655781/artifacts/roc_curve.png/artifacts_local/1/957c0326ea404d55920347cd11655781/artifacts/roc_curve.png/artifacts_local/1/957c0326ea404d55920347cd11655781/artifacts/roc_curve.png/artifacts_local/1/957c0326ea404d55920347cd11655781/artifacts/roc_curve.png/artifacts_local/1/957c0326ea404d55920347cd11655781/artifacts/roc_curve.png/artifacts_local/1/957c0326ea404d55920347cd11655781/artifacts/roc_curve.png/artifacts_local/1/957c0326ea404d55920347cd11655781/artifacts/roc_curve.png/artifacts_local/1/957c0326ea404d55920347cd11655781/artifacts/roc_curve.png/artifacts_local/1/957c0326ea404d55920347cd11655781/artifacts/roc_curve.png/artifacts_local/1/957c0326ea404d55920347cd11655781/artifacts/roc_curve.png/artifacts_local/1/957c0326ea404d55920347cd11655781/artifacts/roc_curve.png/artifacts_local/1/957c0326ea404d55920347cd11655781/artifacts/roc_curve.png/artifacts_local/1/957c0326ea404d55920347cd11655781/artifacts/roc_curve.png/artifacts_local/1/957c0326ea404d55920347cd11655781/artifacts/roc_curve.png/artifacts_local/1/957c0326ea404d55920347cd11655781/artifacts/roc_curve.png/artifacts_local/1/957c0326ea404d55920347cd11655781/artifacts/roc_curve.png/artifacts_local/1/957c0326ea404d55920347cd11655781/artifacts/roc_curve.png/artifacts_local/1/957c0326ea404d55920347cd11655781/artifacts/roc_curve.png', \"[Errno 36] File name too long: '/home/maldu/dscience/projects/spam_detector/notebooks/artifacts_local/1/957c0326ea404d55920347cd11655781/artifacts/roc_curve.png/artifacts_local/1/957c0326ea404d55920347cd11655781/artifacts/roc_curve.png/artifacts_local/1/957c0326ea404d55920347cd11655781/artifacts/roc_curve.png/artifacts_local/1/957c0326ea404d55920347cd11655781/artifacts/roc_curve.png/artifacts_local/1/957c0326ea404d55920347cd11655781/artifacts/roc_curve.png/artifacts_local/1/957c0326ea404d55920347cd11655781/artifacts/roc_curve.png/artifacts_local/1/957c0326ea404d55920347cd11655781/artifacts/roc_curve.png/artifacts_local/1/957c0326ea404d55920347cd11655781/artifacts/roc_curve.png/artifacts_local/1/957c0326ea404d55920347cd11655781/artifacts/roc_curve.png/artifacts_local/1/957c0326ea404d55920347cd11655781/artifacts/roc_curve.png/artifacts_local/1/957c0326ea404d55920347cd11655781/artifacts/roc_curve.png/artifacts_local/1/957c0326ea404d55920347cd11655781/artifacts/roc_curve.png/artifacts_local/1/957c0326ea404d55920347cd11655781/artifacts/roc_curve.png/artifacts_local/1/957c0326ea404d55920347cd11655781/artifacts/roc_curve.png/artifacts_local/1/957c0326ea404d55920347cd11655781/artifacts/roc_curve.png/artifacts_local/1/957c0326ea404d55920347cd11655781/artifacts/roc_curve.png/artifacts_local/1/957c0326ea404d55920347cd11655781/artifacts/roc_curve.png/artifacts_local/1/957c0326ea404d55920347cd11655781/artifacts/roc_curve.png/artifacts_local/1/957c0326ea404d55920347cd11655781/artifacts/roc_curve.png/artifacts_local/1/957c0326ea404d55920347cd11655781/artifacts/roc_curve.png/artifacts_local/1/957c0326ea404d55920347cd11655781/artifacts/roc_curve.png/artifacts_local/1/957c0326ea404d55920347cd11655781/artifacts/roc_curve.png/artifacts_local/1/957c0326ea404d55920347cd11655781/artifacts/roc_curve.png/artifacts_local/1/957c0326ea404d55920347cd11655781/artifacts/roc_curve.png/artifacts_local/1/957c0326ea404d55920347cd11655781/artifacts/roc_curve.png/artifacts_local/1/957c0326ea404d55920347cd11655781/artifacts/roc_curve.png/artifacts_local/1/957c0326ea404d55920347cd11655781/artifacts/roc_curve.png/artifacts_local/1/957c0326ea404d55920347cd11655781/artifacts/roc_curve.png/artifacts_local/1/957c0326ea404d55920347cd11655781/artifacts/roc_curve.png/artifacts_local/1/957c0326ea404d55920347cd11655781/artifacts/roc_curve.png/artifacts_local/1/957c0326ea404d55920347cd11655781/artifacts/roc_curve.png/artifacts_local/1/957c0326ea404d55920347cd11655781/artifacts/roc_curve.png/artifacts_local/1/957c0326ea404d55920347cd11655781/artifacts/roc_curve.png/artifacts_local/1/957c0326ea404d55920347cd11655781/artifacts/roc_curve.png/artifacts_local/1/957c0326ea404d55920347cd11655781/artifacts/roc_curve.png/artifacts_local/1/957c0326ea404d55920347cd11655781/artifacts/roc_curve.png/artifacts_local/1/957c0326ea404d55920347cd11655781/artifacts/roc_curve.png/artifacts_local/1/957c0326ea404d55920347cd11655781/artifacts/roc_curve.png/artifacts_local/1/957c0326ea404d55920347cd11655781/artifacts/roc_curve.png/artifacts_local/1/957c0326ea404d55920347cd11655781/artifacts/roc_curve.png/artifacts_local/1/957c0326ea404d55920347cd11655781/artifacts/roc_curve.png/artifacts_local/1/957c0326ea404d55920347cd11655781/artifacts/roc_curve.png/artifacts_local/1/957c0326ea404d55920347cd11655781/artifacts/roc_curve.png/artifacts_local/1/957c0326ea404d55920347cd11655781/artifacts/roc_curve.png/artifacts_local/1/957c0326ea404d55920347cd11655781/artifacts/roc_curve.png/artifacts_local/1/957c0326ea404d55920347cd11655781/artifacts/roc_curve.png/artifacts_local/1/957c0326ea404d55920347cd11655781/artifacts/roc_curve.png/artifacts_local/1/957c0326ea404d55920347cd11655781/artifacts/roc_curve.png/artifacts_local/1/957c0326ea404d55920347cd11655781/artifacts/roc_curve.png/artifacts_local/1/957c0326ea404d55920347cd11655781/artifacts/roc_curve.png/artifacts_local/1/957c0326ea404d55920347cd11655781/artifacts/roc_curve.png/artifacts_local/1/957c0326ea404d55920347cd11655781/artifacts/roc_curve.png/artifacts_local/1/957c0326ea404d55920347cd11655781/artifacts/roc_curve.png/artifacts_local/1/957c0326ea404d55920347cd11655781/artifacts/roc_curve.png'\")]"
     ]
    }
   ],
   "source": [
    "train_model(X_train, y_train, X_test, y_test)"
   ]
  },
  {
   "cell_type": "code",
   "execution_count": null,
   "metadata": {},
   "outputs": [],
   "source": []
  }
 ],
 "metadata": {
  "kernelspec": {
   "display_name": "spam-detector-P2ybB3t6-py3.10",
   "language": "python",
   "name": "python3"
  },
  "language_info": {
   "codemirror_mode": {
    "name": "ipython",
    "version": 3
   },
   "file_extension": ".py",
   "mimetype": "text/x-python",
   "name": "python",
   "nbconvert_exporter": "python",
   "pygments_lexer": "ipython3",
   "version": "3.10.12"
  }
 },
 "nbformat": 4,
 "nbformat_minor": 2
}
